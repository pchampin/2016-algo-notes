{
 "cells": [
  {
   "cell_type": "code",
   "execution_count": 10,
   "metadata": {
    "collapsed": false
   },
   "outputs": [],
   "source": [
    "def compte_char(c, txt):\n",
    "    \"\"\"\n",
    "    :entrée c: str\n",
    "    :entrée txt: str\n",
    "    :pré-cond: len(c) == 1\n",
    "    :sortie n: int\n",
    "    :post-cond: txt contient n fois le caractère c\n",
    "    \"\"\"\n",
    "    # exemples:\n",
    "    # compte_char('j', 'bonjour') → 1\n",
    "    # compte_char('o', 'bonjour') → 2\n",
    "    # compte_char('z', 'bonjour') → 0\n",
    "    \n",
    "    n = compte_char_depuis(c, txt, 0)\n",
    "    return n\n",
    "    \n",
    "def compte_char_depuis(c, txt, start):\n",
    "    \"\"\"\n",
    "    :entrée c: str\n",
    "    :entrée txt: str\n",
    "    :entrée pos: int\n",
    "    :pré-cond: len(c) == 1,  start ≥ 0\n",
    "    :sortie n: int\n",
    "    :post-cond: txt contient n fois le caractère c à partir de la position start\n",
    "    \"\"\"\n",
    "    # exemples:\n",
    "    # compte_char_depuis('o', 'bonjour', 0) → 2\n",
    "    # compte_char_depuis('o', 'bonjour', 1) → 2\n",
    "    # compte_char_depuis('o', 'bonjour', 2) → 1\n",
    "    # compte_char_depuis('o', 'bonjour', 5) → 0\n",
    "    # compte_char_depuis('o', 'bonjour', 99) → 0\n",
    "    \n",
    "    if start >= len(txt):\n",
    "        n = 0\n",
    "    else:\n",
    "        n = compte_char_depuis(c, txt, start+1)\n",
    "        if txt[start] == c:\n",
    "            n = n+1\n",
    "    return n\n"
   ]
  },
  {
   "cell_type": "code",
   "execution_count": 18,
   "metadata": {
    "collapsed": false
   },
   "outputs": [],
   "source": [
    "def position_char(c, txt):\n",
    "    \"\"\"\n",
    "    :entrée c: str\n",
    "    :entrée txt: str\n",
    "    :pré-cond: len(c) == 1\n",
    "    :sortie pos: int\n",
    "    :post-cond: pos est l'indice le plus petit tel que txt[pos] == c\n",
    "                ou -1 si un tel indice n'existe pas\n",
    "    \"\"\"\n",
    "    # exemples:\n",
    "    # position_char('j', 'bonjour') → 3\n",
    "    # position_char('o', 'bonjour') → 1\n",
    "    # position_char('z', 'bonjour') → -1\n",
    "    \n",
    "    pos = position_char_depuis(c, txt, 0)\n",
    "\n",
    "def position_char_depuis(c, txt, start):\n",
    "    \"\"\"\n",
    "    :entrée c: str\n",
    "    :entrée txt: str\n",
    "    :entrée start: int\n",
    "    :pré-cond: len(c) == 1,  start ≥ 0\n",
    "    :sortie pos: int\n",
    "    :post-cond: pos est l'indice le plus petit tel que pos ≥ start et txt[pos] == c\n",
    "                ou -1 si un tel indice n'existe pas\n",
    "    \"\"\"\n",
    "    # exemples:\n",
    "    # position_char_depuis('o', 'bonjour', 0) → 1\n",
    "    # position_char_depuis('o', 'bonjour', 1) → 1\n",
    "    # position_char_depuis('o', 'bonjour', 2) → 4\n",
    "    # position_char_depuis('o', 'bonjour', 5) → -1\n",
    "    \n",
    "    if start >= len(txt):\n",
    "        pos = -1\n",
    "    else:\n",
    "        if txt[start] == c:\n",
    "            pos = start\n",
    "        else:\n",
    "            pos = position_char_depuis(c, txt, start+1)\n",
    "    return pos"
   ]
  },
  {
   "cell_type": "code",
   "execution_count": 19,
   "metadata": {
    "collapsed": false
   },
   "outputs": [],
   "source": [
    "def préfixe(txt, n):\n",
    "    \"\"\"\n",
    "    :entrée txt: str\n",
    "    :entrée n: int\n",
    "    :pré-cond: 0 ≤ n ≤ len(txt)\n",
    "    :sortie: pref\n",
    "    :post-cond: len(pref) == n et pour tout i entre 0 et n-1, pref[i] == txt[i]\n",
    "    \"\"\"\n",
    "    # exemples:\n",
    "    # préfixe('bonjour', 0) → \"\"\n",
    "    # préfixe('bonjour', 1) → \"b\"\n",
    "    # préfixe('bonjour', 3) → \"bon\"\n",
    "    # préfixe('bonjour', 7) → \"bonjour\"\n",
    "    \n",
    "    if n == 0:\n",
    "        pref = \"\"\n",
    "    else:\n",
    "        pref = préfixe(txt, n-1)\n",
    "        pref = pref+txt[n-1]\n",
    "    return pref"
   ]
  },
  {
   "cell_type": "code",
   "execution_count": null,
   "metadata": {
    "collapsed": true
   },
   "outputs": [],
   "source": [
    "def inverse(txt):\n",
    "    \"\"\"\n",
    "    :entrée txt: str\n",
    "    :sortie inv: str\n",
    "    :post-cond: inv contient les mêmes caractères que txt, en sens inverse\n",
    "    \"\"\"\n",
    "    # exemple:\n",
    "    # inverse(\"hello\") → \"olleh\"\n",
    "    #\n",
    "    # indice: vous pouvez utiliser préfixe() pour extraire\n"
   ]
  }
 ],
 "metadata": {
  "kernelspec": {
   "display_name": "Python 3",
   "language": "python",
   "name": "python3"
  },
  "language_info": {
   "codemirror_mode": {
    "name": "ipython",
    "version": 3
   },
   "file_extension": ".py",
   "mimetype": "text/x-python",
   "name": "python",
   "nbconvert_exporter": "python",
   "pygments_lexer": "ipython3",
   "version": "3.5.1"
  }
 },
 "nbformat": 4,
 "nbformat_minor": 0
}
