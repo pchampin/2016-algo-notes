{
 "cells": [
  {
   "cell_type": "code",
   "execution_count": 2,
   "metadata": {
    "collapsed": false
   },
   "outputs": [
    {
     "name": "stdout",
     "output_type": "stream",
     "text": [
      "numéro de téléphone: 0612345678\n",
      "durée (en minutes): 3\n",
      "0.75\n"
     ]
    }
   ],
   "source": [
    "\"\"\"\n",
    "     :entrée numéro: chaîne SAISIE AU CLAVIER\n",
    "     :entrée durée: entier (int) SAISIE AU CLAVIER\n",
    "     :pré-cond: numéro est composée d’exactement 10 caractères,\n",
    "                    tous sont des chiffres,\n",
    "                    et le premier est toujours '0'\n",
    "                durée > 0\n",
    "     :sortie prix: flottant AFFICHÉE À L'ÉCRAN\n",
    "     :post-cond: calcule le prix en euros\n",
    "                 d’un appel de durée minutes vers numéro\n",
    "                 (cf. énnoncé pour les tarifs)\n",
    "\"\"\"\n",
    "numéro = input(\"numéro de téléphone: \")\n",
    "durée = int(input(\"durée (en minutes): \"))\n",
    "\n",
    "if numéro[1] == \"6\" or numéro[1] == \"7\":\n",
    "    tarif = 0.25\n",
    "else:\n",
    "    if numéro[1] == \"8\":\n",
    "        tarif = 1.25\n",
    "    else:\n",
    "        tarif = 0.05\n",
    "\n",
    "prix = tarif*durée\n",
    "print(prix)"
   ]
  },
  {
   "cell_type": "code",
   "execution_count": 8,
   "metadata": {
    "collapsed": false
   },
   "outputs": [
    {
     "name": "stdout",
     "output_type": "stream",
     "text": [
      "x: 2\n",
      "n: 4\n",
      "256.0\n"
     ]
    }
   ],
   "source": [
    "\"\"\"\n",
    "    :entrée x: flottant (float)\n",
    "    :entrée n: entier (int)\n",
    "    :pré-cond: n > 1\n",
    "    :sortie p: flottant\n",
    "    :post-cond: p = xⁿ\n",
    "\"\"\"\n",
    "x = float(input(\"x: \"))\n",
    "n = int(input(\"n: \"))\n",
    "p = 1\n",
    "while n > 1:\n",
    "    p = p*x\n",
    "    n = n-1\n",
    "print(x)\n"
   ]
  }
 ],
 "metadata": {
  "kernelspec": {
   "display_name": "Python 3",
   "language": "python",
   "name": "python3"
  },
  "language_info": {
   "codemirror_mode": {
    "name": "ipython",
    "version": 3
   },
   "file_extension": ".py",
   "mimetype": "text/x-python",
   "name": "python",
   "nbconvert_exporter": "python",
   "pygments_lexer": "ipython3",
   "version": "3.5.1"
  }
 },
 "nbformat": 4,
 "nbformat_minor": 0
}
