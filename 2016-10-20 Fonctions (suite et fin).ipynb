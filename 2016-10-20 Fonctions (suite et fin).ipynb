{
 "cells": [
  {
   "cell_type": "code",
   "execution_count": 71,
   "metadata": {
    "collapsed": false
   },
   "outputs": [],
   "source": [
    "def début_mot(txt, n):\n",
    "    \"\"\"\n",
    "    :entrée txt: str\n",
    "    :entrée n: int\n",
    "    :pré-cond: txt n'est pas vide, ne contient\n",
    "                 que des lettres et des espaces,\n",
    "                 et les mots (suites de lettres)\n",
    "                 sont séparés d'exactement 1 espace;\n",
    "               n > 0\n",
    "    :sortie dm: int\n",
    "    :post-cond: le n-ème mot de txt commence à l'indice dm s'il existe,\n",
    "                sinon dm vaut -1\n",
    "    \"\"\"\n",
    "    i = 0\n",
    "    nb_espaces = 0\n",
    "    while i < len(txt) and nb_espaces < n-1:\n",
    "        if txt[i] == \" \":\n",
    "            nb_espaces = nb_espaces+1\n",
    "        i = i+1\n",
    "    if i < len(txt)\n",
    "        dm = i\n",
    "    else:\n",
    "        dm = -1\n",
    "    return dm\n"
   ]
  },
  {
   "cell_type": "code",
   "execution_count": 77,
   "metadata": {
    "collapsed": false
   },
   "outputs": [
    {
     "name": "stdout",
     "output_type": "stream",
     "text": [
      "8\n"
     ]
    }
   ],
   "source": [
    "\n",
    "#                          111111\n",
    "#                0123456789012345\n",
    "print(début_mot(\"bonjour le monde\", 2))\n",
    "# doit afficher 8"
   ]
  },
  {
   "cell_type": "code",
   "execution_count": 49,
   "metadata": {
    "collapsed": false
   },
   "outputs": [],
   "source": [
    "# en utilisant la fonction début mot\n",
    "def extraire_mot(txt, n):\n",
    "    \"\"\"\n",
    "    :entrée txt: str\n",
    "    :entrée n: int\n",
    "    :pré-cond: txt n'est pas vide, ne contient\n",
    "                 que des lettres et des espaces,\n",
    "                 et les mots (suites de lettres)\n",
    "                 sont séparés d'exactement 1 espace;\n",
    "               n > 0\n",
    "    :sortie mot: str\n",
    "    :post-cond: mot est le n-ème mot de txt si il existe,\n",
    "                la chaîne vide sinon\n",
    "    \"\"\"\n",
    "    i = début_mot(txt, n)\n",
    "    mot = \"\"\n",
    "    if i >= 0:\n",
    "        while i < len(txt) and txt[i] != \" \":\n",
    "            mot = mot + txt[i]\n",
    "            i = i+1\n",
    "    return mot"
   ]
  },
  {
   "cell_type": "code",
   "execution_count": 78,
   "metadata": {
    "collapsed": false
   },
   "outputs": [
    {
     "name": "stdout",
     "output_type": "stream",
     "text": [
      "bonjour\n"
     ]
    }
   ],
   "source": [
    "print(extraire_mot(\"bonjour le monde\", 1))"
   ]
  },
  {
   "cell_type": "code",
   "execution_count": 88,
   "metadata": {
    "collapsed": true
   },
   "outputs": [],
   "source": [
    "def genre(mot):\n",
    "    \"\"\"\n",
    "    :entrée mot: str\n",
    "    :pré-cond: mot est un mot (ne comporte que des lettres)\n",
    "    :sortie g: int\n",
    "    :post-cond: g vaut 1 si mot est masculin, 2 si mot est féminin ou les deux, 3 si on ne sait pas\n",
    "    \"\"\"\n",
    "    #\n",
    "    # NB: CECI EST UNE GROSSIÈRE APPROXIMATION\n",
    "    # UNIQUEMENT POUR POUVOIR TESTER LES FONCTIONS SUIVANTES\n",
    "    #\n",
    "    if mot in [\"Brian\", \"Daniel\", \"le\", \"un\", \"chien\"]:\n",
    "        g = 1\n",
    "    elif mot in [\"Alice\", \"Carole\", \"la\", \"une\", \"cuisine\"]:\n",
    "        g = 2\n",
    "    else:\n",
    "        g = 3\n",
    "    return g"
   ]
  },
  {
   "cell_type": "code",
   "execution_count": 83,
   "metadata": {
    "collapsed": true
   },
   "outputs": [],
   "source": [
    "def compte_genres(txt):\n",
    "    \"\"\"\n",
    "    :entrée txt: str\n",
    "    :pré-cond: txt n'est pas vide, et contient des mots séparés par une seule espace\n",
    "    :sortie m: int\n",
    "    :sortie f: int\n",
    "    :post-cond: m est le nombre de mots masculins dans txt,\n",
    "                f est le nombre de mots féminins dans txt\n",
    "    \"\"\"\n",
    "    m = 0\n",
    "    f = 0\n",
    "    i = 1\n",
    "    le_mot = extraire_mot(txt, 1)\n",
    "    while le_mot != \"\":\n",
    "        g = genre(le_mot)\n",
    "        if g == 1:\n",
    "            m = m+1\n",
    "        else:\n",
    "            if g == 2:\n",
    "                f = f+1\n",
    "        i = i+1\n",
    "        le_mot = extraire_mot(txt, i)\n",
    "    return m,f\n",
    "        "
   ]
  },
  {
   "cell_type": "code",
   "execution_count": 85,
   "metadata": {
    "collapsed": false
   },
   "outputs": [
    {
     "name": "stdout",
     "output_type": "stream",
     "text": [
      "(1, 2)\n"
     ]
    }
   ],
   "source": [
    "print(compte_genres(\"Brian est dans la cuisine\"))\n",
    "# doir afficher"
   ]
  },
  {
   "cell_type": "code",
   "execution_count": 86,
   "metadata": {
    "collapsed": true
   },
   "outputs": [],
   "source": [
    "def parité(txt):\n",
    "    \"\"\"\n",
    "    :entrée txt: str\n",
    "    :pré-cond: txt n'est pas vide, et contient des mots séparés par une seule espace\n",
    "    :sortie p: bool\n",
    "    :post-cond: p est True si et seulement si txt contient\n",
    "                autant de mots masculins que de mots féminins\n",
    "    \"\"\"\n",
    "    nm, nf = compte_genres(txt)\n",
    "    p = (nm == nf) # cette égalité retoure True ou False\n",
    "    return p"
   ]
  },
  {
   "cell_type": "code",
   "execution_count": 89,
   "metadata": {
    "collapsed": false
   },
   "outputs": [
    {
     "name": "stdout",
     "output_type": "stream",
     "text": [
      "True\n",
      "False\n"
     ]
    }
   ],
   "source": [
    "print(parité(\"Alice Brian Carole Daniel\"))\n",
    "print(parité(\"Alice Brian Carole\"))"
   ]
  }
 ],
 "metadata": {
  "kernelspec": {
   "display_name": "Python 3",
   "language": "python",
   "name": "python3"
  },
  "language_info": {
   "codemirror_mode": {
    "name": "ipython",
    "version": 3
   },
   "file_extension": ".py",
   "mimetype": "text/x-python",
   "name": "python",
   "nbconvert_exporter": "python",
   "pygments_lexer": "ipython3",
   "version": "3.5.1"
  }
 },
 "nbformat": 4,
 "nbformat_minor": 0
}
