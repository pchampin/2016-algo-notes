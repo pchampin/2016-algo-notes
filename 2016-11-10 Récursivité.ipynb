{
 "cells": [
  {
   "cell_type": "code",
   "execution_count": 3,
   "metadata": {
    "collapsed": false
   },
   "outputs": [
    {
     "name": "stdout",
     "output_type": "stream",
     "text": [
      "hheelllloo\n",
      "hheelllloo\n"
     ]
    }
   ],
   "source": [
    "def doubleChar(c):\n",
    "    \"\"\"\n",
    "    :entrée c: str\n",
    "    :pré-cond: len(c) == 1\n",
    "    :sortie r: str\n",
    "    :post-cond: r = c+c\n",
    "    \"\"\"\n",
    "    r = c+c\n",
    "    return r\n",
    "\n",
    "def begaye(txt):\n",
    "    r = \"\"\n",
    "    i = 0\n",
    "    while i < len(txt):\n",
    "        r = r + doubleChar(txt[i])\n",
    "        i = i + 1\n",
    "    return r\n",
    "\n",
    "# la même chose en ré-écrivant doubleChar dans begaye\n",
    "def begaye2(txt):\n",
    "    r = \"\"\n",
    "    i = 0\n",
    "    while i < len(txt):\n",
    "        c = txt[i]\n",
    "        r2 = c+c\n",
    "        r = r + r2\n",
    "        i = i + 1\n",
    "    return r\n",
    "\n",
    "\n",
    "print(begaye(\"hello\"))\n",
    "print(begaye2(\"hello\"))"
   ]
  },
  {
   "cell_type": "code",
   "execution_count": 17,
   "metadata": {
    "collapsed": false
   },
   "outputs": [
    {
     "name": "stdout",
     "output_type": "stream",
     "text": [
      "xxxx\n"
     ]
    }
   ],
   "source": [
    "def multChar_while(c, n):\n",
    "    \"\"\"\n",
    "    :entrée c: str\n",
    "    :entrée n: int\n",
    "    :pré-cond: len(c) == 1, n >= 0\n",
    "    :sortie txt: str\n",
    "    :post-cond: len(txt) == n, pour tout i, 0 ≤ i < n, txt[i] == c\n",
    "    \"\"\"\n",
    "    txt = \"\"\n",
    "    while len(txt)<n:\n",
    "        txt = txt + c\n",
    "    return txt\n",
    "\n",
    "def multChar(c, n):\n",
    "    txt = \"\"\n",
    "    if n > 0:\n",
    "        txt = c + multChar(c, n-1)\n",
    "    return txt\n",
    "\n",
    "def multChar(c, n):\n",
    "    if n == 0: # cas simple\n",
    "        txt = \"\"\n",
    "    else: # cas complexe\n",
    "        txt = c + multChar(c, n-1) # me rapproche du cas simple\n",
    "    return txt\n",
    "        \n",
    "print(multChar('x', 4))"
   ]
  },
  {
   "cell_type": "code",
   "execution_count": 5,
   "metadata": {
    "collapsed": false
   },
   "outputs": [
    {
     "name": "stdout",
     "output_type": "stream",
     "text": [
      "1 -> 1\n",
      "2 -> 2\n",
      "3 -> 6\n",
      "4 -> 24\n",
      "5 -> 120\n",
      "6 -> 720\n",
      "7 -> 5040\n",
      "8 -> 40320\n",
      "9 -> 362880\n",
      "36 ->  371993326789901217467999448150835200000000\n"
     ]
    }
   ],
   "source": [
    "def fact(n):\n",
    "    \"\"\"\n",
    "    :entrée n: int\n",
    "    :pré-cond: n ≥ 1\n",
    "    :sortie f: int\n",
    "    :post-cond: f = n*(n-1)*(n-2)*...*2*1\n",
    "    \"\"\"\n",
    "    if n == 1:\n",
    "        f = 1\n",
    "    else:\n",
    "        f = n * fact(n-1)\n",
    "    return f\n",
    "\n",
    "i = 1\n",
    "while i < 10:\n",
    "    print(i, \"->\", fact(i))\n",
    "    i = i+1\n",
    "    \n",
    "print(\"36 -> \", fact(36))"
   ]
  },
  {
   "cell_type": "code",
   "execution_count": 7,
   "metadata": {
    "collapsed": false
   },
   "outputs": [
    {
     "name": "stdout",
     "output_type": "stream",
     "text": [
      "1 -> 1\n",
      "2 -> 1\n",
      "3 -> 2\n",
      "4 -> 3\n",
      "5 -> 5\n",
      "6 -> 8\n",
      "7 -> 13\n",
      "8 -> 21\n",
      "9 -> 34\n",
      "36 ->  14930352\n"
     ]
    }
   ],
   "source": [
    "def fibo(n):\n",
    "    \"\"\"\n",
    "    :entrée n: int\n",
    "    :pré-cond: n ≥ 1\n",
    "    :sortie f: int\n",
    "    :post-cond: f est le n-ème terme de la suite de Fibonacci\n",
    "    \"\"\"\n",
    "    if n <= 2:\n",
    "        f = 1\n",
    "    else:\n",
    "        f = fibo(n-1) + fibo(n-2)\n",
    "    return f\n",
    "\n",
    "i = 1\n",
    "while i < 10:\n",
    "    print(i, \"->\", fibo(i))\n",
    "    i = i+1   \n",
    "print(\"36 -> \", fibo(36))"
   ]
  }
 ],
 "metadata": {
  "kernelspec": {
   "display_name": "Python 3",
   "language": "python",
   "name": "python3"
  },
  "language_info": {
   "codemirror_mode": {
    "name": "ipython",
    "version": 3
   },
   "file_extension": ".py",
   "mimetype": "text/x-python",
   "name": "python",
   "nbconvert_exporter": "python",
   "pygments_lexer": "ipython3",
   "version": "3.5.1"
  }
 },
 "nbformat": 4,
 "nbformat_minor": 0
}
