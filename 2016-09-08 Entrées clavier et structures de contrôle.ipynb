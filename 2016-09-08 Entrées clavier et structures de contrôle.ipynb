{
 "cells": [
  {
   "cell_type": "code",
   "execution_count": 5,
   "metadata": {
    "collapsed": false
   },
   "outputs": [
    {
     "data": {
      "text/plain": [
       "True"
      ]
     },
     "execution_count": 5,
     "metadata": {},
     "output_type": "execute_result"
    }
   ],
   "source": [
    "(1.7e12+1.7e-12) == 1.7e12  # les calculs sur les nombres flottants ne sont pas toujours exacts"
   ]
  },
  {
   "cell_type": "code",
   "execution_count": 21,
   "metadata": {
    "collapsed": false
   },
   "outputs": [
    {
     "name": "stdout",
     "output_type": "stream",
     "text": [
      "2\n"
     ]
    }
   ],
   "source": [
    "print(5//2)  # // est la division euclidienne (ne s'applique qu'à des entiers, donne un entier)"
   ]
  },
  {
   "cell_type": "code",
   "execution_count": 25,
   "metadata": {
    "collapsed": false
   },
   "outputs": [
    {
     "name": "stdout",
     "output_type": "stream",
     "text": [
      "2.5\n"
     ]
    }
   ],
   "source": [
    "print(5/2)  # / est la division réelle (s'applique à des entiers ou des flottants, donne un flottant)"
   ]
  },
  {
   "cell_type": "code",
   "execution_count": 28,
   "metadata": {
    "collapsed": false
   },
   "outputs": [
    {
     "name": "stdout",
     "output_type": "stream",
     "text": [
      "1\n"
     ]
    }
   ],
   "source": [
    "reste = 10%3  # % est le module, c.à.d. le reste de la division euclidienne\n",
    "print(reste)"
   ]
  },
  {
   "cell_type": "markdown",
   "metadata": {},
   "source": [
    "# Entrée de valeur au clavier"
   ]
  },
  {
   "cell_type": "code",
   "execution_count": 37,
   "metadata": {
    "collapsed": false
   },
   "outputs": [
    {
     "name": "stdout",
     "output_type": "stream",
     "text": [
      "Quelle est la valeur de x ?hello\n",
      "hello world\n"
     ]
    }
   ],
   "source": [
    "x = input(\"Quelle est la valeur de x ?\")  # input retourne une chaîne de caractères\n",
    "print(x+\" world\")"
   ]
  },
  {
   "cell_type": "code",
   "execution_count": 41,
   "metadata": {
    "collapsed": false
   },
   "outputs": [
    {
     "name": "stdout",
     "output_type": "stream",
     "text": [
      "Quelle est la valeur de x ?42\n",
      "43\n"
     ]
    }
   ],
   "source": [
    "x = int(input(\"Quelle est la valeur de x ?\"))  # pour lire un entier\n",
    "print(x+1)"
   ]
  },
  {
   "cell_type": "code",
   "execution_count": 45,
   "metadata": {
    "collapsed": false
   },
   "outputs": [
    {
     "name": "stdout",
     "output_type": "stream",
     "text": [
      "Quelle est la valeur de x ?42\n",
      "42.0\n"
     ]
    }
   ],
   "source": [
    "x = float(input(\"Quelle est la valeur de x ?\"))  # pour lire un flottant\n",
    "print(x)"
   ]
  },
  {
   "cell_type": "markdown",
   "metadata": {},
   "source": [
    "# Structures de contrôle\n",
    "## Séquence"
   ]
  },
  {
   "cell_type": "markdown",
   "metadata": {},
   "source": [
    "Écrivez un programme qui\n",
    "* demande à l'utilisateur une valeur r\n",
    "* affiche le périmètre d'un cercle de rayon r\n",
    "* et la surface d'un cercle de rayon r"
   ]
  },
  {
   "cell_type": "code",
   "execution_count": null,
   "metadata": {
    "collapsed": true
   },
   "outputs": [],
   "source": [
    "r = float(input(\"Valeur du rayon en cm?\"))\n",
    "p = 2*3.14*r\n",
    "print(\"Périmètre = \", p, \"cm\")\n",
    "print(\"Surface = \", 3.14*r*r, \"cm2\")"
   ]
  },
  {
   "cell_type": "markdown",
   "metadata": {},
   "source": [
    "## Condition"
   ]
  },
  {
   "cell_type": "code",
   "execution_count": 3,
   "metadata": {
    "collapsed": false
   },
   "outputs": [
    {
     "name": "stdout",
     "output_type": "stream",
     "text": [
      "Valeur de a:1\n",
      "Valeur de b:2\n",
      "Valeur de c:-4\n",
      "solution 1 =  1.2360679774997898\n",
      "solution 2 =  1.2360679774997898\n",
      "c'est fini\n"
     ]
    }
   ],
   "source": [
    "from math import sqrt # \"square root\" → racine carrée\n",
    "\n",
    "a = float(input(\"Valeur de a:\"))\n",
    "b = float(input(\"Valeur de b:\"))\n",
    "c = float(input(\"Valeur de c:\"))\n",
    "\n",
    "delta = b*b-4*a*c\n",
    "if delta >= 0:\n",
    "    print(\"solution 1 = \", (-b+sqrt(delta))/(2*a))\n",
    "    print(\"solution 2 = \", (-b+sqrt(delta))/(2*a))\n",
    "else:\n",
    "    print(\"pas de solution\")\n",
    "print(\"c'est fini\")"
   ]
  },
  {
   "cell_type": "markdown",
   "metadata": {},
   "source": [
    "## Boucle"
   ]
  },
  {
   "cell_type": "code",
   "execution_count": 56,
   "metadata": {
    "collapsed": false
   },
   "outputs": [
    {
     "name": "stdout",
     "output_type": "stream",
     "text": [
      "1234\n",
      "123\n",
      "12\n",
      "1\n",
      "0\n",
      "c'est fini\n"
     ]
    }
   ],
   "source": [
    "i = 12345\n",
    "while i > 0:\n",
    "    i = i//10\n",
    "    print(i)\n",
    "print(\"c'est fini\")"
   ]
  }
 ],
 "metadata": {
  "kernelspec": {
   "display_name": "Python 3",
   "language": "python",
   "name": "python3"
  },
  "language_info": {
   "codemirror_mode": {
    "name": "ipython",
    "version": 3
   },
   "file_extension": ".py",
   "mimetype": "text/x-python",
   "name": "python",
   "nbconvert_exporter": "python",
   "pygments_lexer": "ipython3",
   "version": "3.5.1"
  }
 },
 "nbformat": 4,
 "nbformat_minor": 0
}
