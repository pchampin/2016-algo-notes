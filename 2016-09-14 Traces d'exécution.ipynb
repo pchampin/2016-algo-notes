{
 "cells": [
  {
   "cell_type": "code",
   "execution_count": 9,
   "metadata": {
    "collapsed": false
   },
   "outputs": [
    {
     "name": "stdout",
     "output_type": "stream",
     "text": [
      "The tutormagic extension is already loaded. To reload it, use:\n",
      "  %reload_ext tutormagic\n"
     ]
    }
   ],
   "source": [
    "%load_ext tutormagic"
   ]
  },
  {
   "cell_type": "code",
   "execution_count": 12,
   "metadata": {
    "collapsed": true
   },
   "outputs": [],
   "source": [
    "%%tutor --lang python3 --tab\n",
    "\n",
    "i = int(input(\"i\"))\n",
    "print(\"---\")\n",
    "while i > 0:\n",
    "    i = i//10\n",
    "    print(i)\n",
    "print(\"c'est fini\")"
   ]
  },
  {
   "cell_type": "markdown",
   "metadata": {},
   "source": [
    "La trace détaillée lorsqu'on entre 1234:\n",
    "\n",
    "    3. i = 1234\n",
    "    4. (print)\n",
    "    5. i > 0 ? oui\n",
    "    6. i = 123\n",
    "    7. (print)\n",
    "    5. i > 0 ? oui\n",
    "    6. i = 12\n",
    "    7. (print)\n",
    "    5. i > 0 ? oui\n",
    "    6. i = 1\n",
    "    7. (print)\n",
    "    5. i > 0 ? oui\n",
    "    6. i = 0\n",
    "    7. (print)\n",
    "    5. i > 0 ? non\n",
    "    8. (print)\n",
    "\n",
    "La trace compacte lorsqu'on entre 1234:\n",
    "\n",
    "    5.  i:1234\n",
    "    5.  i:123\n",
    "    5.  i:12\n",
    "    5.  i:1\n",
    "    5.  i:0\n",
    "    FIN i:0"
   ]
  },
  {
   "cell_type": "code",
   "execution_count": 14,
   "metadata": {
    "collapsed": false
   },
   "outputs": [],
   "source": [
    "%%tutor --lang python3 --tab\n",
    "\n",
    "a = int(input(\"a:\"))\n",
    "b = int(input(\"b:\"))\n",
    "\n",
    "while b != 0:\n",
    "    c = a % b\n",
    "    a = b\n",
    "    b = c\n",
    "print(a)\n",
    "\n",
    "# calcul du PGCD, algorithme d'Euclide"
   ]
  },
  {
   "cell_type": "markdown",
   "metadata": {},
   "source": [
    "La trace compacte lorsqu'on entre 51 et 15:\n",
    "\n",
    "    6.  a:51 b:15 c:?\n",
    "    6.  a:15 b:6  c:6\n",
    "    6.  a:6  b:3  c:3\n",
    "    6.  a:3  b:0  c:0\n",
    "    FIN a:3  b:0  c:0"
   ]
  },
  {
   "cell_type": "code",
   "execution_count": 23,
   "metadata": {
    "collapsed": false
   },
   "outputs": [],
   "source": [
    "%%tutor --lang python3 --tab\n",
    "\n",
    "n = int(input(\"donnez un nombre:\"))\n",
    "\n",
    "while n >= 10:\n",
    "    s = 0\n",
    "    while n > 0:\n",
    "        c = n % 10\n",
    "        s = s + c\n",
    "        n = n // 10\n",
    "    n = s\n",
    "if n == 3 or n == 6 or n == 9:\n",
    "    print(\"oui\")\n",
    "else:\n",
    "    print(\"non\")\n",
    "    \n",
    "# calcul \"manuel\" pour déterminer si un nombre est un multiple de 3:\n",
    "# on fait la somme des chiffre (boucle intérieure, lignes 7-10)\n",
    "# et on recommence tant qu'on a plusieurs chiffres (boucle extérieure, lignes 5-11)"
   ]
  },
  {
   "cell_type": "markdown",
   "metadata": {},
   "source": [
    "La trace compacte lorsqu'on entre 99:\n",
    "\n",
    "    5.  n:99 s:?  c:?\n",
    "    7.  n:99 s:0  c:?\n",
    "    7.  n:9  s:9  c:9\n",
    "    7.  n:0  s:18 c:9\n",
    "    5.  n:18 s:18 c:9\n",
    "    7.  n:18 s:0  c:9\n",
    "    7.  n:1  s:8  c:8\n",
    "    7.  n:0  s:9  c:1\n",
    "    5.  n:9  s:9  c:1\n",
    "    12. n:9  s:9  c:1\n",
    "    FIN n:9  s:9  c:1"
   ]
  }
 ],
 "metadata": {
  "kernelspec": {
   "display_name": "Python 3",
   "language": "python",
   "name": "python3"
  },
  "language_info": {
   "codemirror_mode": {
    "name": "ipython",
    "version": 3
   },
   "file_extension": ".py",
   "mimetype": "text/x-python",
   "name": "python",
   "nbconvert_exporter": "python",
   "pygments_lexer": "ipython3",
   "version": "3.5.1"
  }
 },
 "nbformat": 4,
 "nbformat_minor": 0
}
