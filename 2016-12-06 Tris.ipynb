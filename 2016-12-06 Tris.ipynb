{
 "cells": [
  {
   "cell_type": "code",
   "execution_count": 11,
   "metadata": {
    "collapsed": true
   },
   "outputs": [],
   "source": [
    "def trie_intervalle(tab, ig, id):\n",
    "    \"\"\"\n",
    "    :entrée-sortie tab: tableau de float\n",
    "    :entrée ig: int\n",
    "    :entrée id: int\n",
    "    :pré-cond: 0 ≤ ig ≤ id < len(tab)\n",
    "    :post-cond: tab- (tab tel qu'il est passé en entrée)\n",
    "                contient les mêmes valeurs entre ig et id\n",
    "                que tab+ (tab tel qu'il est en sortie),\n",
    "                mais tab+ est trié entre ig et id\n",
    "    \"\"\"\n",
    "    "
   ]
  },
  {
   "cell_type": "markdown",
   "metadata": {},
   "source": [
    "# Tri par sélection\n",
    "\n",
    "Principe: on cherche le minimum, et on le permute avec la pemière case. Puis on recommence entre à partir de la 2e case, puis la 3e, et ainsi de suite."
   ]
  },
  {
   "cell_type": "code",
   "execution_count": 12,
   "metadata": {
    "collapsed": true
   },
   "outputs": [],
   "source": [
    "## tri par sélection\n",
    "\n",
    "def min_intervalle(tab, ig, id):\n",
    "    \"\"\"\n",
    "    :entrée tab: tableau de float\n",
    "    :entrée ig: int\n",
    "    :entrée id: int\n",
    "    :pré-cond: 0 ≤ ig ≤ id < len(tab)\n",
    "    :sortie imin: int\n",
    "    :post-cond: tab[imin] est la plus petite valeur dans tab\n",
    "                entre ig et id\n",
    "    \"\"\"\n",
    "    imin = ig\n",
    "    i = ig+1\n",
    "    while i <= id:\n",
    "        if tab[i] < tab[imin]:\n",
    "            imin = i\n",
    "        i = i+1\n",
    "    return imin\n",
    "    \n",
    "    \n",
    "def trie_intervalle(tab, ig, id):\n",
    "    \n",
    "    while ig < id:\n",
    "        imin = min_intervalle(tab, ig, id)\n",
    "        tmp = tab[ig]\n",
    "        tab[ig] = tab[imin]\n",
    "        tab[imin] = tmp\n",
    "        ig = ig+1\n",
    "        "
   ]
  },
  {
   "cell_type": "code",
   "execution_count": 14,
   "metadata": {
    "collapsed": false
   },
   "outputs": [
    {
     "name": "stdout",
     "output_type": "stream",
     "text": [
      "[1 2 3 5 5 7]\n"
     ]
    }
   ],
   "source": [
    "from numpy import array\n",
    "a = array([7,2,3,5,1,5])\n",
    "trie_intervalle(a, 0, len(a)-1)\n",
    "print(a)"
   ]
  },
  {
   "cell_type": "markdown",
   "metadata": {},
   "source": [
    "## Version récursive"
   ]
  },
  {
   "cell_type": "code",
   "execution_count": 8,
   "metadata": {
    "collapsed": true
   },
   "outputs": [],
   "source": [
    "## tri par sélection\n",
    "\n",
    "def min_intervalle(tab, ig, id):\n",
    "    if ig == id:\n",
    "        imin = ig\n",
    "    else:\n",
    "        imin = min_intervalle(tab, ig+1, id)\n",
    "        if tab[ig] < tab[imin]:\n",
    "            imin = ig\n",
    "    return imin\n",
    "    \n",
    "def trie_intervalle(tab, ig, id):\n",
    "    if ig == id:\n",
    "        pass # rien à faire\n",
    "    else:\n",
    "        imin = min_intervalle(tab, ig, id)\n",
    "        tmp = tab[ig]\n",
    "        tab[ig] = tab[imin]\n",
    "        tab[imin] = tmp\n",
    "        \n",
    "        trie_intervalle(tab, ig+1, id)"
   ]
  },
  {
   "cell_type": "code",
   "execution_count": 15,
   "metadata": {
    "collapsed": false
   },
   "outputs": [
    {
     "name": "stdout",
     "output_type": "stream",
     "text": [
      "[1 2 3 5 5 7]\n"
     ]
    }
   ],
   "source": [
    "a = array([7,2,3,5,1,5])\n",
    "trie_intervalle(a, 0, len(a)-1)\n",
    "print(a)"
   ]
  },
  {
   "cell_type": "markdown",
   "metadata": {},
   "source": [
    "# Tri par insertion\n",
    "\n",
    "Principe: on considère le sous-tableau composé des 2 premières cases; il est presque trié, il n'y a qu'à insérer (en la décalant) la 2e valeur à la bonne position. Après cette manipulation, le sous-tableau composé des 3 premières cases est presque trié, il n'y a plus qu'à insérer la 3e valeur à la bonne position. Après cela, le sous-tableau composé des 4 premières cases est presque trié, et ainsi de suite. Par propagation, on arrive à trier la totalité du tableau."
   ]
  },
  {
   "cell_type": "code",
   "execution_count": 17,
   "metadata": {
    "collapsed": true
   },
   "outputs": [],
   "source": [
    "def insere_d(tab, ig, id):\n",
    "    \"\"\"\n",
    "    :entrée-sortie tab: tableau de float\n",
    "    :entrée ig: int\n",
    "    :entrée id: int\n",
    "    :pré-cond: 0 ≤ ig < id < len(tab)\n",
    "               tab est trié entre ig et id-1\n",
    "    :post-cond: tab- (tab tel qu'il est passé en entrée)\n",
    "                contient les mêmes valeurs entre ig et id\n",
    "                que tab+ (tab tel qu'il est en sortie),\n",
    "                mais tab+ est trié entre ig et id\n",
    "    \"\"\"\n",
    "    i = id\n",
    "    while i > ig  and  tab[i-1] > tab[i]:\n",
    "        tmp = tab[i]\n",
    "        tab[i-1] = tab[i]\n",
    "        tab[i] = tmp\n",
    "        i = i-1\n",
    "        \n",
    "def insere_d(tab, ig, id):\n",
    "    # un peu plus économique\n",
    "    val = tab[id]\n",
    "    i = id  # position du \"trou\" laissé par tab[id]\n",
    "    while i > ig  and  tab[i-1] > val:\n",
    "        tab[i] = tab[i-1]\n",
    "        i = i-1\n",
    "    tab[i] = val\n",
    "\n",
    "def trie_intervalle(tab, ig, id):\n",
    "    i = ig+1\n",
    "    while i <= id:\n",
    "        insere_d(tab, ig, i)\n",
    "        i = i+1"
   ]
  },
  {
   "cell_type": "code",
   "execution_count": 19,
   "metadata": {
    "collapsed": false
   },
   "outputs": [
    {
     "name": "stdout",
     "output_type": "stream",
     "text": [
      "[1 2 3 5 5 7]\n"
     ]
    }
   ],
   "source": [
    "a = array([7,2,3,5,1,5])\n",
    "trie_intervalle(a, 0, len(a)-1)\n",
    "print(a)"
   ]
  },
  {
   "cell_type": "markdown",
   "metadata": {},
   "source": [
    "## Version récursive"
   ]
  },
  {
   "cell_type": "code",
   "execution_count": 22,
   "metadata": {
    "collapsed": true
   },
   "outputs": [],
   "source": [
    "def insere_d(tab, ig, id):\n",
    "    if ig == id:\n",
    "        pass # rien à faire\n",
    "    else:\n",
    "        if tab[id-1] > tab[id]:\n",
    "            tmp = tab[id-1]\n",
    "            tab[id-1] = tab[id]\n",
    "            tab[id] = tmp\n",
    "        insere_d(tab, ig, id-1)\n",
    "\n",
    "def trie_intervalle(tab, ig, id):\n",
    "    if ig == id:\n",
    "        pass # rien à faire\n",
    "    else:\n",
    "        trie_intervalle(tab, ig, id-1)\n",
    "        insere_d(tab, ig, id)"
   ]
  },
  {
   "cell_type": "code",
   "execution_count": 24,
   "metadata": {
    "collapsed": false
   },
   "outputs": [
    {
     "name": "stdout",
     "output_type": "stream",
     "text": [
      "[1 2 3 5 5 7]\n"
     ]
    }
   ],
   "source": [
    "a = array([7,2,3,5,1,5])\n",
    "trie_intervalle(a, 0, len(a)-1)\n",
    "print(a)"
   ]
  },
  {
   "cell_type": "markdown",
   "metadata": {},
   "source": [
    "# Tri binaire (ou tri rapide - *quicksort*)\n",
    "\n",
    "Principe: on choisit une valeur pivot au hasard, et on partitionne le tableau de sorte que toutes les valeurs inférieure au pivot soient situées à sa gauche (mais dans n'importe quel ordre), et que toutes les valeurs supérieures au pivot soient situées à sa droite (dans n'importe quel ordre).\n",
    "On appele ensuite récursivement ``trie_intervalle`` sur ces deux sous-tableaux."
   ]
  },
  {
   "cell_type": "code",
   "execution_count": 30,
   "metadata": {
    "collapsed": true
   },
   "outputs": [],
   "source": [
    "def partitionne(tab, ig, id, pivot):\n",
    "    \"\"\"\n",
    "    :entrée-sortie tab: tableau de float\n",
    "    :entrée ig: int\n",
    "    :entrée id: int\n",
    "    :entrée pivot: float\n",
    "    :sortie ip: int\n",
    "    :pré-cond: 0 ≤ ig ≤ id < len(tab)\n",
    "    :post-cond: les valeurs de tab sont permutées de sorte que\n",
    "                toutes les valeures inférieures ou égales au pivot soient à gauche,\n",
    "                et que toutes les valeurs supérieures soient à droite\n",
    "                ip est l'indice de la dernière valeur inférieure ou égale au pivot\n",
    "    \"\"\"\n",
    "    while ig <= id:\n",
    "        if tab[ig] <= pivot:\n",
    "            ig = ig+1\n",
    "        else:\n",
    "            if tab[id] > pivot:\n",
    "                id = id-1\n",
    "            else:\n",
    "                tmp = tab[ig]\n",
    "                tab[ig] = tab[id]\n",
    "                tab[id] = tmp\n",
    "                ig = ig+1\n",
    "                id = id-1\n",
    "    ip = id\n",
    "    return ip\n",
    "\n",
    "def trie_intervalle(tab, ig, id):\n",
    "    if ig >= id:\n",
    "        pass # rien à faire\n",
    "    else:\n",
    "        # n'importe quelle valeur peut faire office de pivot\n",
    "        pivot = tab[ig] # on prend donc la première\n",
    "        # on sépare le tableau en deux \"tas\" (plus petit / plus grand que le pivot)\n",
    "        ip = partitionne(tab, ig+1, id, pivot)\n",
    "        # on permute le pivot pour qu'il soit entre les deux \"tas\"\n",
    "        tmp = tab[ig]\n",
    "        tab[ig] = tab[ip]\n",
    "        tab[ip] = tmp\n",
    "        # on trie récursivement les deux \"tas\"\n",
    "        trie_intervalle(tab, ig, ip-1)\n",
    "        trie_intervalle(tab, ip+1, id)"
   ]
  },
  {
   "cell_type": "code",
   "execution_count": 31,
   "metadata": {
    "collapsed": false
   },
   "outputs": [
    {
     "name": "stdout",
     "output_type": "stream",
     "text": [
      "[1 2 3 5 5 7]\n"
     ]
    }
   ],
   "source": [
    "a = array([7,2,3,5,1,5])\n",
    "trie_intervalle(a, 0, len(a)-1)\n",
    "print(a)"
   ]
  }
 ],
 "metadata": {
  "kernelspec": {
   "display_name": "Python 3",
   "language": "python",
   "name": "python3"
  },
  "language_info": {
   "codemirror_mode": {
    "name": "ipython",
    "version": 3
   },
   "file_extension": ".py",
   "mimetype": "text/x-python",
   "name": "python",
   "nbconvert_exporter": "python",
   "pygments_lexer": "ipython3",
   "version": "3.5.1"
  }
 },
 "nbformat": 4,
 "nbformat_minor": 0
}
