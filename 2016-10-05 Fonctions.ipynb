{
 "cells": [
  {
   "cell_type": "markdown",
   "metadata": {},
   "source": [
    "# Fonctions\n",
    "\n",
    "Exemples de fonctions mathématiques: exponentielle, carré, inverse, ln, cos, racine\n",
    "\n",
    "Une fonction accepte un certain nombre d'entrées, et donne une ou plusieurs valeurs qu'on appelle ses sorties. Cf. notion de contrat."
   ]
  },
  {
   "cell_type": "code",
   "execution_count": 3,
   "metadata": {
    "collapsed": false
   },
   "outputs": [
    {
     "name": "stdout",
     "output_type": "stream",
     "text": [
      "Saisissez un entier: 42\n",
      "42\n"
     ]
    }
   ],
   "source": [
    "# contrat de la fonction input(message)    \n",
    "\"\"\"\n",
    ":entrée message: str\n",
    ":entrée texte: str ENTRÉE AU CLAVIER\n",
    ":pré-cond: -\n",
    ":sortie texte2: str\n",
    ":post-cond: texte2 == texte\n",
    "\"\"\"\n",
    "    \n",
    "# contrat de la fonction int(txt)\n",
    "\"\"\"\n",
    ":entrée txt: str\n",
    ":pré-cond: txt ne contient que des chiffres\n",
    ":sortie s: int\n",
    ":post-cond: s est le nombre représenté par txt en base 10\n",
    "\"\"\"\n",
    "\n",
    "x = int(input(\"Saisissez un entier: \"))\n",
    "print(x+0) # on ajoute 0 pour montrer que c'est bien un entier, et non une chaîne"
   ]
  }
 ],
 "metadata": {
  "kernelspec": {
   "display_name": "Python 3",
   "language": "python",
   "name": "python3"
  },
  "language_info": {
   "codemirror_mode": {
    "name": "ipython",
    "version": 3
   },
   "file_extension": ".py",
   "mimetype": "text/x-python",
   "name": "python",
   "nbconvert_exporter": "python",
   "pygments_lexer": "ipython3",
   "version": "3.5.1"
  }
 },
 "nbformat": 4,
 "nbformat_minor": 0
}
