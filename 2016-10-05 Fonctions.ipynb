{
 "cells": [
  {
   "cell_type": "markdown",
   "metadata": {},
   "source": [
    "# Fonctions\n",
    "\n",
    "Exemples de fonctions mathématiques: exponentielle, carré, inverse, ln, cos, racine\n",
    "\n",
    "Une fonction accepte un certain nombre d'entrées, et donne une ou plusieurs valeurs qu'on appelle ses sorties. Cf. notion de contrat."
   ]
  },
  {
   "cell_type": "code",
   "execution_count": 4,
   "metadata": {
    "collapsed": false
   },
   "outputs": [
    {
     "name": "stdout",
     "output_type": "stream",
     "text": [
      "Saisissez un entier: 42\n",
      "42\n"
     ]
    }
   ],
   "source": [
    "# contrat de la fonction input(message)    \n",
    "\"\"\"\n",
    ":entrée message: str\n",
    ":entrée texte: str ENTRÉE AU CLAVIER\n",
    ":pré-cond: -\n",
    ":sortie texte2: str\n",
    ":post-cond: texte2 == texte\n",
    "\"\"\"\n",
    "    \n",
    "# contrat de la fonction int(txt)\n",
    "\"\"\"\n",
    ":entrée txt: str\n",
    ":pré-cond: txt ne contient que des chiffres\n",
    ":sortie s: int\n",
    ":post-cond: s est le nombre représenté par txt en base 10\n",
    "\"\"\"\n",
    "\n",
    "x = int(input(\"Saisissez un entier: \"))\n",
    "print(x+0) # on ajoute 0 pour montrer que c'est bien un entier, et non une chaîne"
   ]
  },
  {
   "cell_type": "code",
   "execution_count": 7,
   "metadata": {
    "collapsed": false
   },
   "outputs": [
    {
     "data": {
      "text/plain": [
       "'\\n:entrée txt: str\\n:pré-cond: -\\n:sortie l: int\\n:post-cond: pour tout i tel que 0 ≤ i < len(txt), txt[i] est défini\\n'"
      ]
     },
     "execution_count": 7,
     "metadata": {},
     "output_type": "execute_result"
    }
   ],
   "source": [
    "# contrat de la fonction print(val)\n",
    "\"\"\"\n",
    ":entrée *: val\n",
    ":pré-cond: -\n",
    ":sortie texte: str AFFICHÉE À L'ÉCRAN\n",
    ":post-cond: texte est la représentation textuelle de val\n",
    "\"\"\"\n",
    "\n",
    "# contrat de la fonction len(txt)\n",
    "\"\"\"\n",
    ":entrée txt: str\n",
    ":pré-cond: -\n",
    ":sortie l: int\n",
    ":post-cond: pour tout i tel que 0 ≤ i < len(txt), txt[i] est défini\n",
    "\"\"\""
   ]
  },
  {
   "cell_type": "markdown",
   "metadata": {},
   "source": [
    "Dans le contrat d'une *fonction*,\n",
    "les entrées sont passées en paramètre (sauf mention contraire),\n",
    "les sorties sont retournées (sauf mention contraire),\n",
    "contrairement au contrats que nous avons écrit jusqu'à maintenant.\n"
   ]
  }
 ],
 "metadata": {
  "kernelspec": {
   "display_name": "Python 3",
   "language": "python",
   "name": "python3"
  },
  "language_info": {
   "codemirror_mode": {
    "name": "ipython",
    "version": 3
   },
   "file_extension": ".py",
   "mimetype": "text/x-python",
   "name": "python",
   "nbconvert_exporter": "python",
   "pygments_lexer": "ipython3",
   "version": "3.5.1"
  }
 },
 "nbformat": 4,
 "nbformat_minor": 0
}
