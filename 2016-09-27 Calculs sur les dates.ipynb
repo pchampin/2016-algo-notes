{
 "cells": [
  {
   "cell_type": "code",
   "execution_count": 11,
   "metadata": {
    "collapsed": false
   },
   "outputs": [
    {
     "name": "stdout",
     "output_type": "stream",
     "text": [
      "nombre de jours: 0\n",
      "nombre d'heures: 0\n",
      "nombre de minutes: 100\n",
      "nombre de secondes: 0\n",
      "6000.0\n"
     ]
    }
   ],
   "source": [
    "    \"\"\"\n",
    "    :entrée j: int\n",
    "    :entrée h: int\n",
    "    :entrée m: int\n",
    "    :entrée s: float\n",
    "    :sortie ds: float\n",
    "    :pré-cond: j > 0 , 0 ≤ h < 24 , 0 ≤ m < 60, 0 ≤ s < 60\n",
    "    :post-cond: ds est le nombre de secondes correspond à\n",
    "                une durée de j jours, h heures, m minutes et s secondes.\n",
    "    \"\"\"\n",
    "    j = int(input(\"nombre de jours: \"))\n",
    "    h = int(input(\"nombre d'heures: \"))\n",
    "    m = int(input(\"nombre de minutes: \"))\n",
    "    s = float(input(\"nombre de secondes: \"))\n",
    "    \n",
    "    ds = (j*24*60*60) + (h*60*60) + (m*60) + s\n",
    "    \n",
    "    print(ds)"
   ]
  },
  {
   "cell_type": "code",
   "execution_count": 17,
   "metadata": {
    "collapsed": false
   },
   "outputs": [
    {
     "name": "stdout",
     "output_type": "stream",
     "text": [
      "nombre de secondes: 123\n",
      "0 0 2 3\n"
     ]
    }
   ],
   "source": [
    "    \"\"\"\n",
    "    :entrée sec: int\n",
    "    :sortie j: int\n",
    "    :sortie h: int\n",
    "    :sortie m: int\n",
    "    :sortie s: int\n",
    "    :pré-cond: sec ≥ 0\n",
    "    :post-cond: sec est le nombre de secondes correspond à\n",
    "                une durée de j jours, h heures, m minutes et s secondes\n",
    "                avec j > 0 , 0 ≤ h < 24 , 0 ≤ m < 60, 0 ≤ s < 60 .\n",
    "    \"\"\"\n",
    "    sec = int(input(\"nombre de secondes: \"))\n",
    "    \n",
    "    j = sec // (24*60*60)\n",
    "    sec = sec % (24*60*60)\n",
    "    h = sec // (60*60)\n",
    "    sec = sec % (60*60)\n",
    "    m = sec // 60\n",
    "    s = sec % 60\n",
    "    \n",
    "    print(j,h,m,s)"
   ]
  },
  {
   "cell_type": "code",
   "execution_count": 3,
   "metadata": {
    "collapsed": false
   },
   "outputs": [
    {
     "name": "stdout",
     "output_type": "stream",
     "text": [
      "1. heures: 13\n",
      "1. minutes: 04\n",
      "1. secondes: 12\n",
      "2. heures: 13\n",
      "2. minutes: 05\n",
      "2. secondes: 11\n",
      "-1\n"
     ]
    }
   ],
   "source": [
    "    \"\"\"\n",
    "    :entrée h1: int\n",
    "    :entrée m1: int\n",
    "    :entrée s1: int\n",
    "    :entrée h2: int\n",
    "    :entrée m2: int\n",
    "    :entrée s2: int\n",
    "    :sortie o: int\n",
    "    :pré-cond: 0 ≤ h1 < 24 , 0 ≤ m1 < 60 , 0 ≤ s1 < 60 ,\n",
    "               0 ≤ h2 < 24 , 0 ≤ m2 < 60 , 0 ≤ s2 < 60\n",
    "    :post-cond: o est un entier positif si h1:m1:s1 est après h2:m2:s2 ,\n",
    "                      un entier negatif si h1:m1:s2 est avant h2:m2:s2 ,\n",
    "                      0 si les deux heures sont identiques .\n",
    "    \"\"\"\n",
    "    h1 = int(input(\"1. heures: \"))\n",
    "    m1 = int(input(\"1. minutes: \"))\n",
    "    s1 = int(input(\"1. secondes: \"))\n",
    "    h2 = int(input(\"2. heures: \"))\n",
    "    m2 = int(input(\"2. minutes: \"))\n",
    "    s2 = int(input(\"2. secondes: \"))\n",
    "    \n",
    "    if h1 < h2:\n",
    "        o = -1\n",
    "    else:\n",
    "        if h1 > h2:\n",
    "            o = 1\n",
    "        else:\n",
    "            # h1 == h2\n",
    "            if m1 < m2:\n",
    "                o = -1\n",
    "            else:\n",
    "                if m1 > m2:\n",
    "                    o = 1\n",
    "                else:\n",
    "                    # m1 == m2\n",
    "                    if s1 < s2:\n",
    "                        o = -1\n",
    "                    else:\n",
    "                        if s1 > s2:\n",
    "                            o = 1\n",
    "                        else:\n",
    "                            # h1 == h2, m1 == m2, s1 == s2\n",
    "                            o = 0\n",
    "    print(o)"
   ]
  },
  {
   "cell_type": "code",
   "execution_count": 4,
   "metadata": {
    "collapsed": false
   },
   "outputs": [
    {
     "name": "stdout",
     "output_type": "stream",
     "text": [
      "1. heures: 13\n",
      "1. minutes: 04\n",
      "1. secondes: 12\n",
      "2. heures: 13\n",
      "2. minutes: 05\n",
      "2. secondes: 11\n",
      "-59\n"
     ]
    }
   ],
   "source": [
    "    \"\"\"\n",
    "    AUTRE IMPLÉMENTATION POSSIBLE\n",
    "    pour le contrat ci-dessus\n",
    "    \"\"\"\n",
    "    h1 = int(input(\"1. heures: \"))\n",
    "    m1 = int(input(\"1. minutes: \"))\n",
    "    s1 = int(input(\"1. secondes: \"))\n",
    "    h2 = int(input(\"2. heures: \"))\n",
    "    m2 = int(input(\"2. minutes: \"))\n",
    "    s2 = int(input(\"2. secondes: \"))\n",
    "\n",
    "    sec1 = h1*3600 + m1*60 + s1\n",
    "    sec2 = h2*3600 + m2*60 + s2\n",
    "    o = sec1 - sec2\n",
    "    \n",
    "    print(o)"
   ]
  }
 ],
 "metadata": {
  "kernelspec": {
   "display_name": "Python 3",
   "language": "python",
   "name": "python3"
  },
  "language_info": {
   "codemirror_mode": {
    "name": "ipython",
    "version": 3
   },
   "file_extension": ".py",
   "mimetype": "text/x-python",
   "name": "python",
   "nbconvert_exporter": "python",
   "pygments_lexer": "ipython3",
   "version": "3.5.1"
  }
 },
 "nbformat": 4,
 "nbformat_minor": 0
}
