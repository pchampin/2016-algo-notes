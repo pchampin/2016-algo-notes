{
 "cells": [
  {
   "cell_type": "code",
   "execution_count": 9,
   "metadata": {
    "collapsed": false
   },
   "outputs": [
    {
     "name": "stdout",
     "output_type": "stream",
     "text": [
      "entrez un réel: 2\n",
      "entrez un entier positif: 6\n",
      "32.0\n"
     ]
    }
   ],
   "source": [
    "x = float(input(\"entrez un réel: \"))\n",
    "n = int(input(\"entrez un entier positif: \"))\n",
    "\n",
    "r = 1\n",
    "i = 1\n",
    "while i < n:\n",
    "    r = r*x\n",
    "    i = i+1\n",
    "print(r)"
   ]
  },
  {
   "cell_type": "markdown",
   "metadata": {},
   "source": [
    "Trace pour x=2.0 et n=6:\n",
    "\n",
    "    6.  x:2  n:6  r:1  i:1\n",
    "    6.  x:2  n:6  r:2  i:2\n",
    "    6.  x:2  n:6  r:4  i:3\n",
    "    6.  x:2  n:6  r:8  i:4\n",
    "    6.  x:2  n:6  r:16 i:5\n",
    "    6.  x:2  n:6  r:32 i:6\n",
    "    FIN x:2  n:6  r:32 i:6"
   ]
  },
  {
   "cell_type": "code",
   "execution_count": 25,
   "metadata": {
    "collapsed": false
   },
   "outputs": [
    {
     "name": "stdout",
     "output_type": "stream",
     "text": [
      "entrez un réel: 2\n",
      "entrez un entier positif: 6\n",
      "--- boucle, i= 0\n",
      "--- boucle, i= 1\n",
      "--- boucle, i= 2\n",
      "--- boucle, i= 3\n",
      "--- boucle, i= 4\n",
      "--- boucle, i= 5\n",
      "--- sorti de la boucle, i= 6\n",
      "64.0\n"
     ]
    }
   ],
   "source": [
    "x = float(input(\"entrez un réel: \"))\n",
    "n = int(input(\"entrez un entier positif: \"))\n",
    "\n",
    "r = 1\n",
    "i = 0  # le nb de multiplication par x qu'on a faites\n",
    "while i < n:\n",
    "    print(\"--- boucle, i=\", i)\n",
    "    r = r*x\n",
    "    i = i+1\n",
    "print(\"--- sorti de la boucle, i=\", i)\n",
    "print(r)\n"
   ]
  },
  {
   "cell_type": "code",
   "execution_count": 24,
   "metadata": {
    "collapsed": false
   },
   "outputs": [
    {
     "name": "stdout",
     "output_type": "stream",
     "text": [
      "entrez un réel: 2\n",
      "entrez un entier positif: -1\n",
      "1\n"
     ]
    }
   ],
   "source": [
    "x = float(input(\"entrez un réel: \"))\n",
    "n = int(input(\"entrez un entier positif: \"))\n",
    "\n",
    "r = 1\n",
    "# n représente le nombre de multiplications par x qui restent à faire\n",
    "while n > 0:\n",
    "    r = r*x\n",
    "    n = n-1\n",
    "print(r)"
   ]
  },
  {
   "cell_type": "markdown",
   "metadata": {},
   "source": [
    "# Notion de contrat"
   ]
  },
  {
   "cell_type": "code",
   "execution_count": 26,
   "metadata": {
    "collapsed": false
   },
   "outputs": [
    {
     "data": {
      "text/plain": [
       "'\\n:entrée x: float\\n:entrée n: int\\n:pré-condition: n >= 0\\n:sortie r: float\\n:post-condition: r == x^n\\n'"
      ]
     },
     "execution_count": 26,
     "metadata": {},
     "output_type": "execute_result"
    }
   ],
   "source": [
    "\"\"\"\n",
    ":entrée x: float\n",
    ":entrée n: int\n",
    ":pré-condition: n >= 0\n",
    ":sortie r: float\n",
    ":post-condition: r == x^n\n",
    "\"\"\""
   ]
  }
 ],
 "metadata": {
  "kernelspec": {
   "display_name": "Python 3",
   "language": "python",
   "name": "python3"
  },
  "language_info": {
   "codemirror_mode": {
    "name": "ipython",
    "version": 3
   },
   "file_extension": ".py",
   "mimetype": "text/x-python",
   "name": "python",
   "nbconvert_exporter": "python",
   "pygments_lexer": "ipython3",
   "version": "3.5.1"
  }
 },
 "nbformat": 4,
 "nbformat_minor": 0
}
