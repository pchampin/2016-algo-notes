{
 "cells": [
  {
   "cell_type": "code",
   "execution_count": 54,
   "metadata": {
    "collapsed": false
   },
   "outputs": [
    {
     "name": "stdout",
     "output_type": "stream",
     "text": [
      "[10 20 30 40 50]\n"
     ]
    }
   ],
   "source": [
    "from numpy import array, empty\n",
    "\n",
    "tab = array([10,20,30,40,50])\n",
    "print(tab)"
   ]
  },
  {
   "cell_type": "markdown",
   "metadata": {},
   "source": [
    "# Opérations disponibles sur les tableaux"
   ]
  },
  {
   "cell_type": "code",
   "execution_count": 59,
   "metadata": {
    "collapsed": false
   },
   "outputs": [
    {
     "name": "stdout",
     "output_type": "stream",
     "text": [
      "5\n"
     ]
    }
   ],
   "source": [
    "# un tableau a une longueur\n",
    "print(len(tab))"
   ]
  },
  {
   "cell_type": "code",
   "execution_count": 60,
   "metadata": {
    "collapsed": false
   },
   "outputs": [
    {
     "name": "stdout",
     "output_type": "stream",
     "text": [
      "20\n"
     ]
    }
   ],
   "source": [
    "# on peut accéder à chaque élément individuellement\n",
    "print(tab[1])\n",
    "# (comme pour les chaînes, les éléments sont numérotés à partir de 0)"
   ]
  },
  {
   "cell_type": "code",
   "execution_count": 71,
   "metadata": {
    "collapsed": false
   },
   "outputs": [
    {
     "name": "stdout",
     "output_type": "stream",
     "text": [
      "[10 99 30 40 50]\n"
     ]
    }
   ],
   "source": [
    "# on peut modifier un élément d'un tableau\n",
    "tab[1] = 99\n",
    "print(tab)"
   ]
  },
  {
   "cell_type": "markdown",
   "metadata": {},
   "source": [
    "# Construction d'un tableau"
   ]
  },
  {
   "cell_type": "code",
   "execution_count": 73,
   "metadata": {
    "collapsed": false
   },
   "outputs": [
    {
     "name": "stdout",
     "output_type": "stream",
     "text": [
      "[ 12.3  45.6  78.9]\n"
     ]
    }
   ],
   "source": [
    "# en extension\n",
    "tab1 = array([12.3, 45.6, 78.9])\n",
    "print(tab1)"
   ]
  },
  {
   "cell_type": "code",
   "execution_count": 75,
   "metadata": {
    "collapsed": false
   },
   "outputs": [
    {
     "name": "stdout",
     "output_type": "stream",
     "text": [
      "[0 0 0 0 0 0 0 0 0 0 0 0 0 0 0 0 0 0 0 0]\n"
     ]
    }
   ],
   "source": [
    "# tableau \"vide\" (en fait: non initialisé)\n",
    "tab2 = empty(20, int)\n",
    "print(tab2)"
   ]
  },
  {
   "cell_type": "markdown",
   "metadata": {},
   "source": [
    "# Le *même* tableau peut être pointé par plusieurs variables"
   ]
  },
  {
   "cell_type": "code",
   "execution_count": 64,
   "metadata": {
    "collapsed": false
   },
   "outputs": [
    {
     "name": "stdout",
     "output_type": "stream",
     "text": [
      "[10 99 30]\n"
     ]
    }
   ],
   "source": [
    "a = array([10,20,30])\n",
    "b = a\n",
    "a[1] = 99\n",
    "print(b)"
   ]
  },
  {
   "cell_type": "markdown",
   "metadata": {},
   "source": [
    "Cela peut sembler contradictoire avec le fonctionnement d'autres types de données, comme les entiers."
   ]
  },
  {
   "cell_type": "code",
   "execution_count": 66,
   "metadata": {
    "collapsed": false
   },
   "outputs": [
    {
     "name": "stdout",
     "output_type": "stream",
     "text": [
      "42\n"
     ]
    }
   ],
   "source": [
    "a = 42\n",
    "b = a\n",
    "a = a+1\n",
    "print(b)"
   ]
  },
  {
   "cell_type": "markdown",
   "metadata": {},
   "source": [
    "Cette apparente \"incohérence\" vient du fait que les lignes 3 des 2 programmes ci-dessus sont très différentes. Dans un cas, on change un élément du tableau sans changer l'identité du tableau pointé par les variables *a* et *b*. Dans le second cas, on change réaffecte la variable *a*, ce qui n'a pas d'incidence sur la variable *b*.\n",
    "\n",
    "L'exemple ci-dessus avec des entiers correspond donc plutôt à l'exemble suivant avec des tableaux."
   ]
  },
  {
   "cell_type": "code",
   "execution_count": 70,
   "metadata": {
    "collapsed": false
   },
   "outputs": [
    {
     "name": "stdout",
     "output_type": "stream",
     "text": [
      "[10 20 30]\n"
     ]
    }
   ],
   "source": [
    "a = array([10,20,30])\n",
    "b = a\n",
    "a = array([10,99,30])\n",
    "print(b)"
   ]
  },
  {
   "cell_type": "markdown",
   "metadata": {},
   "source": [
    "# Exercices"
   ]
  },
  {
   "cell_type": "code",
   "execution_count": 28,
   "metadata": {
    "collapsed": false
   },
   "outputs": [
    {
     "name": "stdout",
     "output_type": "stream",
     "text": [
      "[0 0 0 0 0 0 0 0 0 0]\n"
     ]
    }
   ],
   "source": [
    "def zeros(n):\n",
    "    \"\"\"\n",
    "    :entrée n: int\n",
    "    :pré-cond: n > 0\n",
    "    :sortie tab: tableau d'int\n",
    "    :post-cond: len(tab) == n, pour tout i, tab[i] == 0\n",
    "    \"\"\"\n",
    "    tab = empty(n, int)\n",
    "    i = 0\n",
    "    while i < n:\n",
    "        tab[i] = 0\n",
    "        i = i+1\n",
    "    return tab\n",
    "\n",
    "print(zeros(10))"
   ]
  },
  {
   "cell_type": "code",
   "execution_count": 30,
   "metadata": {
    "collapsed": false
   },
   "outputs": [
    {
     "name": "stdout",
     "output_type": "stream",
     "text": [
      "[ 0  1  2  3  4  5  6  7  8  9 10 11 12 13 14 15 16 17 18 19 20 21 22 23 24\n",
      " 25 26 27 28 29 30 31 32 33 34 35 36 37 38 39 40 41 42 43 44 45 46 47 48 49\n",
      " 50 51 52 53 54 55 56 57 58 59 60 61 62 63 64 65 66 67 68 69 70 71 72 73 74\n",
      " 75 76 77 78 79 80 81 82 83 84 85 86 87 88 89 90 91 92 93 94 95 96 97 98 99]\n"
     ]
    }
   ],
   "source": [
    "def sequence(n):\n",
    "    \"\"\"\n",
    "    :entrée n: int\n",
    "    :pré-cond: n > 0\n",
    "    :sortie tab: tableau d'int\n",
    "    :post-cond: len(tab) == n, pour tout i, tab[i] == i\n",
    "    \"\"\"\n",
    "    tab = empty(n, int)\n",
    "    i = 0\n",
    "    while i < n:\n",
    "        tab[i] = i\n",
    "        i = i+1\n",
    "    return tab\n",
    "\n",
    "print(sequence(100))"
   ]
  },
  {
   "cell_type": "code",
   "execution_count": 35,
   "metadata": {
    "collapsed": false
   },
   "outputs": [
    {
     "name": "stdout",
     "output_type": "stream",
     "text": [
      "[10 20 30 10 20 30 10 20 30 10]\n"
     ]
    }
   ],
   "source": [
    "def répétition(n, éléments):\n",
    "    \"\"\"\n",
    "    :entrée n: int\n",
    "    :entrée éléments: tableau d'int\n",
    "    :pré-cond: n > 0\n",
    "    :sortie tab: tableau d'int\n",
    "    :post-cond: len(tab) == n, et pour tout i\n",
    "                tab[i] = éléments[i % len(éléments)]\n",
    "    \"\"\"\n",
    "    tab = empty(n, int)\n",
    "    i = 0\n",
    "    j = 0\n",
    "    while i < n:\n",
    "        tab[i] = éléments[j]\n",
    "        i = i+1\n",
    "        j = j+1\n",
    "        if j >= len(éléments):\n",
    "            j = 0\n",
    "    return tab\n",
    "\n",
    "def répétition(n, éléments):\n",
    "    \"\"\"\n",
    "    :entrée n: int\n",
    "    :entrée éléments: tableau d'int\n",
    "    :pré-cond: n > 0\n",
    "    :sortie tab: tableau d'int\n",
    "    :post-cond: len(tab) == n, et pour tout i\n",
    "                tab[i] = éléments[i % len(éléments)]\n",
    "    \"\"\"\n",
    "    tab = empty(n, int)\n",
    "    i = 0\n",
    "    while i < n:\n",
    "        tab[i] = éléments[i % len(éléments)]\n",
    "        i = i+1\n",
    "    return tab\n",
    "\n",
    "print(répétition(10, array([10,20,30])))"
   ]
  },
  {
   "cell_type": "code",
   "execution_count": 38,
   "metadata": {
    "collapsed": false
   },
   "outputs": [
    {
     "name": "stdout",
     "output_type": "stream",
     "text": [
      "[10 20 30  2  4  6  8 10]\n"
     ]
    }
   ],
   "source": [
    "def concat_tableaux(tab1, tab2):\n",
    "    \"\"\"\n",
    "    :entrée tab1: tableau d'int\n",
    "    :entrée tab2: tableau d'int\n",
    "    :pré-cond: -\n",
    "    :sortie tabc: tableau d'int\n",
    "    :post-cond: tabc est la concaténation de tab1 et tab2, c.à.d.\n",
    "                len(tabc) = len(tab1) + len(tab2)\n",
    "                tabc[i] = tab1[i] pour 0 ≤ i < len(tab1)\n",
    "                tabc[i] = tab2[i-len(tab1)] pour len(tab1) ≤ i < len(tabc)\n",
    "    \"\"\"\n",
    "    tabc = empty(len(tab1)+len(tab2),int)\n",
    "    i = 0\n",
    "    while i < len(tab1):\n",
    "        tabc[i] = tab1[i]\n",
    "        i = i + 1\n",
    "    while i < len(tab1) + len(tab2):\n",
    "        tabc[i] = tab2[i - len(tab1)]\n",
    "        i = i + 1\n",
    "    return tabc\n",
    "print(concat_tableaux(array([10,20,30]), array([2,4,6,8,10])))"
   ]
  },
  {
   "cell_type": "markdown",
   "metadata": {},
   "source": [
    "# La boucle `for`\n",
    "\n",
    "Syntaxe: \n",
    "\n",
    "  for <variable> in <tableau>:\n",
    "      <corps de la boucle>\n",
    "      \n",
    "La variable prend successivement toutes les valeurs contenues du tableau.\n",
    "\n",
    "NB: cela fonctionne aussi avec une chaîne."
   ]
  },
  {
   "cell_type": "code",
   "execution_count": 77,
   "metadata": {
    "collapsed": false
   },
   "outputs": [
    {
     "name": "stdout",
     "output_type": "stream",
     "text": [
      "h\n",
      "e\n",
      "l\n",
      "l\n",
      "o\n"
     ]
    }
   ],
   "source": [
    "for c in \"hello\":\n",
    "    print(c)"
   ]
  },
  {
   "cell_type": "code",
   "execution_count": 79,
   "metadata": {
    "collapsed": false
   },
   "outputs": [
    {
     "name": "stdout",
     "output_type": "stream",
     "text": [
      "0\n",
      "1\n",
      "2\n",
      "3\n",
      "4\n",
      "5\n",
      "6\n",
      "7\n",
      "8\n",
      "9\n"
     ]
    }
   ],
   "source": [
    "for i in sequence(10):\n",
    "    print(i)"
   ]
  }
 ],
 "metadata": {
  "kernelspec": {
   "display_name": "Python 3",
   "language": "python",
   "name": "python3"
  },
  "language_info": {
   "codemirror_mode": {
    "name": "ipython",
    "version": 3
   },
   "file_extension": ".py",
   "mimetype": "text/x-python",
   "name": "python",
   "nbconvert_exporter": "python",
   "pygments_lexer": "ipython3",
   "version": "3.5.1"
  }
 },
 "nbformat": 4,
 "nbformat_minor": 0
}
