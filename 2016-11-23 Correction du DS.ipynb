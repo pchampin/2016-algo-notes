{
 "cells": [
  {
   "cell_type": "markdown",
   "metadata": {},
   "source": [
    "# Vocabulaire\n",
    "\n",
    "*déclaration*: sert à prévenir l'ordinateur qu'on va utiliser une variable, ainsi qu'à lui donner le type de valeur qu'elle contiendra\n",
    "(mais *pas* à lui donner une valeur)\n",
    "\n",
    "*affectation*: sert à donner une valeur à une variable (e.g. x = 1, i = i+1)\n",
    "\n",
    "*initialisation*: première affectation d'une variable (souvent combinée avec sa déclaration dans les langages typés comme le C)"
   ]
  },
  {
   "cell_type": "code",
   "execution_count": 3,
   "metadata": {
    "collapsed": false
   },
   "outputs": [
    {
     "name": "stdout",
     "output_type": "stream",
     "text": [
      "(1, 1)\n",
      "(4, 4)\n",
      "(4, 5)\n",
      "(15, 15)\n"
     ]
    }
   ],
   "source": [
    "def mystere(e):\n",
    "    \"\"\"\n",
    "    :entrée e: int\n",
    "    :sortie s1: int\n",
    "    :sortie s2: int\n",
    "    :pré-cond: e > 0\n",
    "    :post-cond: ?\n",
    "    \"\"\"\n",
    "    s1 = 1\n",
    "    s2 = e\n",
    "    while s2 - s1 > 1:\n",
    "        m = (s1 + s2)//2\n",
    "        if m*m == e:\n",
    "            s1 = m\n",
    "            s2 = m\n",
    "        else:\n",
    "            if m*m < e:\n",
    "                s1 = m\n",
    "            else:\n",
    "                s2 = m\n",
    "    return s1, s2\n",
    "\n",
    "print(mystere(1))\n",
    "print(mystere(16))\n",
    "print(mystere(21))\n",
    "print(mystere(225))"
   ]
  },
  {
   "cell_type": "code",
   "execution_count": 14,
   "metadata": {
    "collapsed": false
   },
   "outputs": [
    {
     "name": "stdout",
     "output_type": "stream",
     "text": [
      "9\n",
      "13\n",
      "7\n",
      "8\n",
      "-1\n"
     ]
    }
   ],
   "source": [
    "def rechercheCaractere(car, chaine):\n",
    "    '''\n",
    "    :entrée car: string\n",
    "    :entrée chaine: string\n",
    "    :sortie indice: int\n",
    "    :pré-cond: len(car) == 1\n",
    "    :post-cond: retourne le dernier indice du caractère 'car' dans la chaîne 'chaîne',\n",
    "                et retourne -1 s'il n'y est pas\n",
    "    '''\n",
    "\n",
    "    indice = -1\n",
    "    i = 0\n",
    "    while(i<len(chaine)):\n",
    "        if chaine[i] == car:\n",
    "            indice = i \n",
    "        i = i+1\n",
    "    return(indice)\n",
    "\n",
    "print(rechercheCaractere(\"n\", \"les 1001 nuits\"))\n",
    "print(rechercheCaractere(\"s\", \"les 1001 nuits\"))\n",
    "print(rechercheCaractere(\"1\", \"les 1001 nuits\"))\n",
    "print(rechercheCaractere(\" \", \"les 1001 nuits\"))\n",
    "print(rechercheCaractere(\"z\", \"les 1001 nuits\"))"
   ]
  },
  {
   "cell_type": "code",
   "execution_count": 9,
   "metadata": {
    "collapsed": false
   },
   "outputs": [
    {
     "name": "stdout",
     "output_type": "stream",
     "text": [
      "True\n",
      "False\n"
     ]
    }
   ],
   "source": [
    "def palindrome(txt):\n",
    "    \"\"\"\n",
    "    :entrée txt: str\n",
    "    :pré-cond: -\n",
    "    :sortie pal: bool\n",
    "    :post-cond: retourne True si txt est un palindrome, False sinon\n",
    "    \"\"\"\n",
    "    inv = \"\"\n",
    "    i = len(txt)-1\n",
    "    while i >= 0:\n",
    "        inv = inv + txt[i]\n",
    "        i = i-1\n",
    "    # inv est la chaîne inversée de txt\n",
    "    if inv == txt:\n",
    "        pal = True\n",
    "    else:\n",
    "        pal = False\n",
    "    return pal\n",
    "\n",
    "def palindrome(txt):\n",
    "    est_un_palindrome = True\n",
    "    i = 0\n",
    "    j = len(txt)-1\n",
    "    #while i < len(txt)//2:  # également possible\n",
    "    while i < j  and  est_un_palindrome:\n",
    "        if txt[i] != txt[j]:\n",
    "            est_un_palindrome = False\n",
    "        # ERREUR CLASSIQUE À ÉVITER:\n",
    "        # else:\n",
    "        #   est_un_palindrome = True\n",
    "        i = i+1\n",
    "        j = j-1\n",
    "    return est_un_palindrome\n",
    "\n",
    "print(palindrome(\"ressasser\"))\n",
    "print(palindrome(\"ressassera\"))"
   ]
  },
  {
   "cell_type": "code",
   "execution_count": 24,
   "metadata": {
    "collapsed": false
   },
   "outputs": [
    {
     "name": "stdout",
     "output_type": "stream",
     "text": [
      "0\n",
      "18.5\n"
     ]
    }
   ],
   "source": [
    "def age_etu(no_etu):\n",
    "    \"\"\"retourne l'age de l'étudiant dont le numéro est donné,\n",
    "    -1 si cet étudiant n'existe pas\"\"\"\n",
    "    if no_etu <= 13:\n",
    "        return -1\n",
    "    else:\n",
    "        return 18 + (no_etu%2)\n",
    "    \n",
    "def age_moyen_etu(max_no_etu):\n",
    "    somme = 0\n",
    "    nb_etu = 0\n",
    "    no_etu = 1\n",
    "    while no_etu <= max_no_etu:\n",
    "        age = age_etu(no_etu)\n",
    "        if age != -1:\n",
    "            somme = somme + age\n",
    "            nb_etu = nb_etu + 1\n",
    "        no_etu = no_etu + 1\n",
    "    if nb_etu > 0:\n",
    "        am = somme/nb_etu\n",
    "    else:\n",
    "        am = 0\n",
    "    return am\n",
    "\n",
    "print(age_moyen_etu(13))\n",
    "print(age_moyen_etu(15))"
   ]
  }
 ],
 "metadata": {
  "kernelspec": {
   "display_name": "Python 3",
   "language": "python",
   "name": "python3"
  },
  "language_info": {
   "codemirror_mode": {
    "name": "ipython",
    "version": 3
   },
   "file_extension": ".py",
   "mimetype": "text/x-python",
   "name": "python",
   "nbconvert_exporter": "python",
   "pygments_lexer": "ipython3",
   "version": "3.5.1"
  }
 },
 "nbformat": 4,
 "nbformat_minor": 0
}
