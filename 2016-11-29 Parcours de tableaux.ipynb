{
 "cells": [
  {
   "cell_type": "code",
   "execution_count": 41,
   "metadata": {
    "collapsed": false
   },
   "outputs": [
    {
     "name": "stdout",
     "output_type": "stream",
     "text": [
      "0\n",
      "4\n",
      "1\n"
     ]
    }
   ],
   "source": [
    "def tabmin(tab):\n",
    "    \"\"\"\n",
    "    :entrée tab: tableau de float\n",
    "    :pré-cond: len(tab) > 0\n",
    "    :sortie imin: int\n",
    "    :post-cond: imin est l'indice de la plus petite valeur\n",
    "                de tab\n",
    "    \"\"\"\n",
    "    imin = 0\n",
    "    vmin = tab[imin]\n",
    "    i = 1\n",
    "    while i < len(tab):\n",
    "        if tab[i] < vmin:\n",
    "            imin = i\n",
    "            vmin = tab[imin]\n",
    "        i = i+1\n",
    "    return imin\n",
    "\n",
    "# NB: on peut aussi se passer de la variable vmin,\n",
    "# puisqu'elle est à tout moment égale à tab[imin]\n",
    "\n",
    "def tabmin(tab):\n",
    "    \"\"\"\n",
    "    :entrée tab: tableau de float\n",
    "    :pré-cond: len(tab) > 0\n",
    "    :sortie imin: int\n",
    "    :post-cond: imin est l'indice de la plus petite valeur\n",
    "                de tab\n",
    "    \"\"\"\n",
    "    imin = 0\n",
    "    i = 1\n",
    "    while i < len(tab):\n",
    "        if tab[i] < tab[imin]:\n",
    "            imin = i\n",
    "        i = i+1\n",
    "    return imin\n",
    "\n",
    "print(tabmin(array([5,6,7,8,9])))\n",
    "print(tabmin(array([9,8,7,6,5])))\n",
    "print(tabmin(array([9,5,8,6,7])))"
   ]
  },
  {
   "cell_type": "code",
   "execution_count": 37,
   "metadata": {
    "collapsed": false
   },
   "outputs": [
    {
     "name": "stdout",
     "output_type": "stream",
     "text": [
      "1\n",
      "0\n"
     ]
    }
   ],
   "source": [
    "# NB: le contrat est sous-spécifié en cas d'ex-aequo\n",
    "# notre algo retourne le plus petit indice du minimum\n",
    "\n",
    "print(tabmin(array([9,8,9,8,9])))\n",
    "print(tabmin(array([9,9,9,9,9])))"
   ]
  },
  {
   "cell_type": "code",
   "execution_count": 35,
   "metadata": {
    "collapsed": false
   },
   "outputs": [
    {
     "name": "stdout",
     "output_type": "stream",
     "text": [
      "9999999\n"
     ]
    },
    {
     "data": {
      "text/plain": [
       "10000000"
      ]
     },
     "execution_count": 35,
     "metadata": {},
     "output_type": "execute_result"
    }
   ],
   "source": [
    "def indice_val(tab, val):\n",
    "    \"\"\"\n",
    "    :entrée tab: tableau de float\n",
    "    :entrée val: float\n",
    "    :sortie ival: int\n",
    "    :post-cond: ival est le plus petit indice tel que\n",
    "                tab[ival] = val,\n",
    "                -1 si val n'est pas dans tab\n",
    "    \"\"\"\n",
    "    ival = -1\n",
    "    i = 0\n",
    "    while i < len(tab)  and  ival == -1:\n",
    "        if tab[i] == val:\n",
    "            ival = i\n",
    "        i = i+1\n",
    "    return ival\n",
    "\n"
   ]
  }
 ],
 "metadata": {
  "kernelspec": {
   "display_name": "Python 3",
   "language": "python",
   "name": "python3"
  },
  "language_info": {
   "codemirror_mode": {
    "name": "ipython",
    "version": 3
   },
   "file_extension": ".py",
   "mimetype": "text/x-python",
   "name": "python",
   "nbconvert_exporter": "python",
   "pygments_lexer": "ipython3",
   "version": "3.5.1"
  }
 },
 "nbformat": 4,
 "nbformat_minor": 0
}
