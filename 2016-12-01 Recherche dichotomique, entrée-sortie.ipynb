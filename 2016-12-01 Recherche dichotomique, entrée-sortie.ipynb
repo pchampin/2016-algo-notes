{
 "cells": [
  {
   "cell_type": "code",
   "execution_count": 12,
   "metadata": {
    "collapsed": false
   },
   "outputs": [],
   "source": [
    "from numpy import array\n",
    "gros_tab = array([ i+0.1 for i in range(10000000) ])"
   ]
  },
  {
   "cell_type": "code",
   "execution_count": 16,
   "metadata": {
    "collapsed": false
   },
   "outputs": [
    {
     "name": "stdout",
     "output_type": "stream",
     "text": [
      "9999999\n"
     ]
    }
   ],
   "source": [
    "def indice_val(tab, val):\n",
    "    \"\"\"\n",
    "    :entrée tab: tableau de float\n",
    "    :entrée val: float\n",
    "    :sortie ival: int\n",
    "    :post-cond: ival est le plus petit indice tel que\n",
    "                tab[ival] = val,\n",
    "                -1 si val n'est pas dans tab\n",
    "    \"\"\"\n",
    "    ival = -1\n",
    "    i = 0\n",
    "    while i < len(tab)  and  ival == -1:\n",
    "        if tab[i] == val:\n",
    "            ival = i\n",
    "        i = i+1\n",
    "    return ival\n",
    "\n",
    "print(indice_val(gros_tab, 9999999.1))"
   ]
  },
  {
   "cell_type": "code",
   "execution_count": 25,
   "metadata": {
    "collapsed": false
   },
   "outputs": [
    {
     "name": "stdout",
     "output_type": "stream",
     "text": [
      "9999999\n"
     ]
    }
   ],
   "source": [
    "\n",
    "def indice_val_dicho(tab, val):\n",
    "    \"\"\"\n",
    "    :entrée tab: tableau de float\n",
    "    :entrée val: float\n",
    "    :pré-cond: len(tab) > 0, tab est trié par ordre croissant\n",
    "    :sortie ival: int\n",
    "    :post-cond: ival est un indice tel que\n",
    "                tab[ival] = val,\n",
    "                -1 si val n'est pas dans tab\n",
    "    \"\"\"\n",
    "    ig = 0\n",
    "    id = len(tab)-1\n",
    "    while ig<id :\n",
    "        im = (ig+id)//2\n",
    "        if tab[im] == val:\n",
    "            ig = id = im\n",
    "        else:\n",
    "            if val < tab[im]:\n",
    "                id = im-1\n",
    "            else: # tab[im] < val:\n",
    "                ig = im+1\n",
    "    # ig == id\n",
    "    if tab[ig] == val:\n",
    "        ival = ig\n",
    "    else:\n",
    "        ival = -1\n",
    "    return ival\n",
    "\n",
    "print(indice_val_dicho(gros_tab, 9999999.1))"
   ]
  },
  {
   "cell_type": "code",
   "execution_count": 28,
   "metadata": {
    "collapsed": false
   },
   "outputs": [
    {
     "name": "stdout",
     "output_type": "stream",
     "text": [
      "True\n"
     ]
    }
   ],
   "source": [
    "def est_trié(tab):\n",
    "    \"\"\"\n",
    "    :entrée tab: tableau de float\n",
    "    :pré-cond: len(tab) > 0\n",
    "    :sortie trié: bool\n",
    "    :post-cond: trié est True si et seulement si\n",
    "                tab est trié par ordre croissant\n",
    "    \"\"\"\n",
    "    trié = True\n",
    "    i = 0\n",
    "    while i+1 < len(tab)  and  trié:\n",
    "        if tab[i] > tab[i+1]:\n",
    "            trié = False\n",
    "        i = i+1\n",
    "    return trié\n",
    "\n",
    "print(est_trié(gros_tab))"
   ]
  },
  {
   "cell_type": "markdown",
   "metadata": {},
   "source": [
    "**Paramètre d'entré-sortie:** un paramètre dont l'algorithme peut utiliser le contenu (c'est donc une entrée) mais aussi le modifier (c'est donc aussi une sortie).\n",
    "\n",
    "Exemple: un algorithme de tri doit conserver les valeurs du tableau fourni en entrée, mais peut changer leur ordre."
   ]
  },
  {
   "cell_type": "code",
   "execution_count": 29,
   "metadata": {
    "collapsed": true
   },
   "outputs": [],
   "source": [
    "def trie(tab):\n",
    "    \"\"\"\n",
    "    :entrée-sortie tab: tableau de float\n",
    "    :pré-cond: -\n",
    "    :post-cond: tab- (tab tel qu'il est passé en entrée)\n",
    "                contient les mêmes valeurs\n",
    "                que tab+ (tab tel qu'il est en sortie),\n",
    "                mais tab+ est trié\n",
    "    \"\"\"\n",
    "    trie_interval(tab, 0, len(tab)-1)\n",
    "    \n",
    "def trie_interval(tab, ig, id):\n",
    "    \"\"\"\n",
    "    :entrée-sortie tab: tableau de float\n",
    "    :entrée ig: int\n",
    "    :entrée id: int\n",
    "    :pré-cond: -\n",
    "    :post-cond: tab- (tab tel qu'il est passé en entrée)\n",
    "                contient les mêmes valeurs entre ig et id\n",
    "                que tab+ (tab tel qu'il est en sortie),\n",
    "                mais tab+ est trié entre ig et id\n",
    "    \"\"\"\n",
    "    "
   ]
  }
 ],
 "metadata": {
  "kernelspec": {
   "display_name": "Python 3",
   "language": "python",
   "name": "python3"
  },
  "language_info": {
   "codemirror_mode": {
    "name": "ipython",
    "version": 3
   },
   "file_extension": ".py",
   "mimetype": "text/x-python",
   "name": "python",
   "nbconvert_exporter": "python",
   "pygments_lexer": "ipython3",
   "version": "3.5.1"
  }
 },
 "nbformat": 4,
 "nbformat_minor": 0
}
