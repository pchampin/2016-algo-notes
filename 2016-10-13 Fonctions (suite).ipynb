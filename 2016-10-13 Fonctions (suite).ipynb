{
 "cells": [
  {
   "cell_type": "code",
   "execution_count": 31,
   "metadata": {
    "collapsed": false
   },
   "outputs": [
    {
     "name": "stdout",
     "output_type": "stream",
     "text": [
      "je m'apprète à calculer la factorielle\n",
      "6\n"
     ]
    }
   ],
   "source": [
    "def fact(n):\n",
    "    \"\"\"\n",
    "    :entrée n: int\n",
    "    :pré-cond: n ≥ 0\n",
    "    :sortie f: int\n",
    "    :post-cond: f = n! = 1*2*3*...*n\n",
    "    \"\"\"\n",
    "    print(\"je m'apprète à calculer la factorielle\")\n",
    "    f = 1\n",
    "    i = 1 # le prochain multiplicateur\n",
    "    while i <= n:\n",
    "        f = f*i\n",
    "        i = i+1\n",
    "    return f\n",
    "\n",
    "print(fact(3))\n"
   ]
  },
  {
   "cell_type": "code",
   "execution_count": 35,
   "metadata": {
    "collapsed": false
   },
   "outputs": [
    {
     "name": "stdout",
     "output_type": "stream",
     "text": [
      "nombre d'heures: 1\n",
      "nombre de minutes: 2\n",
      "nombre de secondes: 3\n",
      "3723.0\n"
     ]
    }
   ],
   "source": [
    " def durée_en_secondes(j,h,m,s):   \n",
    "    \"\"\"\n",
    "    :entrée j: int\n",
    "    :entrée h: int\n",
    "    :entrée m: int\n",
    "    :entrée s: float\n",
    "    :sortie ds: float\n",
    "    :pré-cond: j > 0 , 0 ≤ h < 24 , 0 ≤ m < 60, 0 ≤ s < 60\n",
    "    :post-cond: ds est le nombre de secondes correspond à\n",
    "                une durée de j jours, h heures, m minutes et s secondes.\n",
    "    \"\"\"\n",
    "    ds = (j*24*60*60) + (h*60*60) + (m*60) + s\n",
    "    \n",
    "    return ds\n",
    "\n",
    "b = int(input(\"nombre d'heures: \"))\n",
    "c = int(input(\"nombre de minutes: \"))\n",
    "d = float(input(\"nombre de secondes: \"))\n",
    "e = durée_en_secondes(0,b,c,d)\n",
    "print(e)"
   ]
  },
  {
   "cell_type": "code",
   "execution_count": 39,
   "metadata": {
    "collapsed": false
   },
   "outputs": [
    {
     "name": "stdout",
     "output_type": "stream",
     "text": [
      "1 jours, 10 heures, 17 min, 36 sec\n"
     ]
    }
   ],
   "source": [
    "def durée_en_jhms(sec):\n",
    "    \"\"\"\n",
    "    :entrée sec: int\n",
    "    :sortie j: int\n",
    "    :sortie h: int\n",
    "    :sortie m: int\n",
    "    :sortie s: int\n",
    "    :pré-cond: sec ≥ 0\n",
    "    :post-cond: sec est le nombre de secondes correspond à\n",
    "                une durée de j jours, h heures, m minutes et s secondes\n",
    "                avec j > 0 , 0 ≤ h < 24 , 0 ≤ m < 60, 0 ≤ s < 60 .\n",
    "    \"\"\"\n",
    "    j = sec // (24*60*60)\n",
    "    sec = sec % (24*60*60)\n",
    "    h = sec // (60*60)\n",
    "    sec = sec % (60*60)\n",
    "    m = sec // 60\n",
    "    s = sec % 60\n",
    "    \n",
    "    return j,h,m,s\n",
    "\n",
    "a, b, c, d = durée_en_jhms(123456)\n",
    "print(a, \"jours,\", b, \"heures,\", c, \"min,\", d, \"sec\")"
   ]
  },
  {
   "cell_type": "code",
   "execution_count": null,
   "metadata": {
    "collapsed": true
   },
   "outputs": [],
   "source": [
    "def début_mot(txt, n):\n",
    "    \"\"\"\n",
    "    :entrée txt: str\n",
    "    :entrée n: int\n",
    "    :pré-cond: txt n'est pas vide, ne contient\n",
    "                 que des lettres et des espaces,\n",
    "                 et les mots (suites de lettres)\n",
    "                 sont séparés d'exactement 1 espace;\n",
    "               n > 0\n",
    "    :sortie dm: int\n",
    "    :post-cond: le n-ème mot de txt commence à l'indice dm s'il existe,\n",
    "                sinon dm vaut -1\n",
    "    \"\"\"\n",
    "    # écrire la fonction ici\n",
    "    \n",
    "print(début_mot(\"bonjour le monde\", 2))\n",
    "# doit afficher 8"
   ]
  }
 ],
 "metadata": {
  "kernelspec": {
   "display_name": "Python 3",
   "language": "python",
   "name": "python3"
  },
  "language_info": {
   "codemirror_mode": {
    "name": "ipython",
    "version": 3
   },
   "file_extension": ".py",
   "mimetype": "text/x-python",
   "name": "python",
   "nbconvert_exporter": "python",
   "pygments_lexer": "ipython3",
   "version": "3.5.1"
  }
 },
 "nbformat": 4,
 "nbformat_minor": 0
}
