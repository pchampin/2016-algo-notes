{
 "cells": [
  {
   "cell_type": "markdown",
   "metadata": {},
   "source": [
    "# Opérations sur les chaînes de caractères\n",
    "\n",
    "## Longueur"
   ]
  },
  {
   "cell_type": "code",
   "execution_count": 51,
   "metadata": {
    "collapsed": false
   },
   "outputs": [
    {
     "name": "stdout",
     "output_type": "stream",
     "text": [
      "11\n"
     ]
    }
   ],
   "source": [
    "txt = \"hello world\"\n",
    "x = len(txt)\n",
    "print(x)"
   ]
  },
  {
   "cell_type": "code",
   "execution_count": 52,
   "metadata": {
    "collapsed": false
   },
   "outputs": [
    {
     "name": "stdout",
     "output_type": "stream",
     "text": [
      "14\n"
     ]
    }
   ],
   "source": [
    "x = len(\"il dit \\\"hello\\\"\")\n",
    "print(x)"
   ]
  },
  {
   "cell_type": "code",
   "execution_count": 53,
   "metadata": {
    "collapsed": false
   },
   "outputs": [
    {
     "name": "stdout",
     "output_type": "stream",
     "text": [
      "11\n"
     ]
    }
   ],
   "source": [
    "x = len(\"hello\\nworld\")\n",
    "print(x)"
   ]
  },
  {
   "cell_type": "code",
   "execution_count": 54,
   "metadata": {
    "collapsed": false
   },
   "outputs": [
    {
     "name": "stdout",
     "output_type": "stream",
     "text": [
      "0\n"
     ]
    }
   ],
   "source": [
    "txt = \"\"\n",
    "print(len(txt))"
   ]
  },
  {
   "cell_type": "markdown",
   "metadata": {},
   "source": [
    "## Extraction d'un caractère"
   ]
  },
  {
   "cell_type": "code",
   "execution_count": 55,
   "metadata": {
    "collapsed": false
   },
   "outputs": [
    {
     "name": "stdout",
     "output_type": "stream",
     "text": [
      "e\n",
      "1\n"
     ]
    }
   ],
   "source": [
    "txt = \"hello world\"\n",
    "c = txt[1]\n",
    "print(c)\n",
    "print(len(c))\n",
    "\n",
    "# NB: en Python, c a le même type que txt"
   ]
  },
  {
   "cell_type": "markdown",
   "metadata": {},
   "source": [
    "## Concaténation"
   ]
  },
  {
   "cell_type": "code",
   "execution_count": 26,
   "metadata": {
    "collapsed": false
   },
   "outputs": [
    {
     "name": "stdout",
     "output_type": "stream",
     "text": [
      "hello world\n"
     ]
    }
   ],
   "source": [
    "txt1 = \"hello\"\n",
    "txt2 = \"world\"\n",
    "print(txt1+\" \"+txt2)"
   ]
  },
  {
   "cell_type": "markdown",
   "metadata": {},
   "source": [
    "# Exercices"
   ]
  },
  {
   "cell_type": "code",
   "execution_count": 42,
   "metadata": {
    "collapsed": false
   },
   "outputs": [
    {
     "name": "stdout",
     "output_type": "stream",
     "text": [
      "txt: ha ha he he\n",
      "11\n"
     ]
    }
   ],
   "source": [
    "\"\"\"\n",
    ":entrée txt: chaîne\n",
    ":pré-cond: -\n",
    ":sortie ne: int\n",
    ":post-cond: ne est le nombre d'occurence du caractère 'e' dans txt\n",
    "\"\"\"\n",
    "txt = input('txt: ')\n",
    "ne = 0\n",
    "i = 0\n",
    "while i < len(txt):\n",
    "    if txt[i] == 'e':\n",
    "        ne = ne+1\n",
    "    i = i+1\n",
    "print(ne)"
   ]
  },
  {
   "cell_type": "code",
   "execution_count": 49,
   "metadata": {
    "collapsed": false
   },
   "outputs": [
    {
     "name": "stdout",
     "output_type": "stream",
     "text": [
      "txt: bonjour le monde\n",
      "6\n"
     ]
    }
   ],
   "source": [
    "\"\"\"\n",
    ":entrée txt: chaîne\n",
    ":pré-cond: -\n",
    ":sortie nv: int\n",
    ":post-cond: nv est le nombre d'occurence de voyelles (non accentuées)\n",
    "            dans txt\n",
    "\"\"\"\n",
    "\n",
    "txt = input('txt: ')\n",
    "ne = 0\n",
    "i = 0\n",
    "while i < len(txt):\n",
    "    c = txt[i]\n",
    "    if (c==\"A\" or c==\"E\" or c==\"I\" or c==\"O\" or c==\"U\" or c==\"Y\" or\n",
    "        c==\"a\" or c==\"e\" or c==\"i\" or c==\"o\" or c==\"u\" or c==\"y\"):\n",
    "        ne = ne+1\n",
    "    i = i+1\n",
    "print(ne)"
   ]
  },
  {
   "cell_type": "code",
   "execution_count": 56,
   "metadata": {
    "collapsed": false
   },
   "outputs": [
    {
     "data": {
      "text/plain": [
       "''"
      ]
     },
     "execution_count": 56,
     "metadata": {},
     "output_type": "execute_result"
    }
   ],
   "source": [
    "\"\"\"\n",
    ":entrée txt: chaîne\n",
    ":pré-cond: -\n",
    ":sortie contient_e: bool\n",
    ":post-cond: contient_e est True si txt contient le caractère 'e',\n",
    "            False sinon\n",
    "\"\"\"\n",
    "''"
   ]
  }
 ],
 "metadata": {
  "kernelspec": {
   "display_name": "Python 3",
   "language": "python",
   "name": "python3"
  },
  "language_info": {
   "codemirror_mode": {
    "name": "ipython",
    "version": 3
   },
   "file_extension": ".py",
   "mimetype": "text/x-python",
   "name": "python",
   "nbconvert_exporter": "python",
   "pygments_lexer": "ipython3",
   "version": "3.5.1"
  }
 },
 "nbformat": 4,
 "nbformat_minor": 0
}
